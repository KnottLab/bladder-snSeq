{
 "cells": [
  {
   "cell_type": "code",
   "execution_count": 1,
   "metadata": {},
   "outputs": [],
   "source": [
    "%load_ext autoreload\n",
    "%autoreload 2\n",
    "%matplotlib inline\n",
    "\n",
    "import numpy as np\n",
    "import pandas as pd\n",
    "import scanpy as sc\n",
    "\n",
    "import glob\n",
    "import os\n",
    "import scrna\n",
    "import h5py\n",
    "\n",
    "from micron2 import load_as_anndata\n",
    "from micron2 import cluster_leiden_cu\n",
    "\n",
    "import tqdm.auto as tqdm\n",
    "\n",
    "from matplotlib import pyplot as plt\n",
    "from matplotlib import rcParams\n",
    "import time\n",
    "\n",
    "from micron2.data import staining_border_nonzero"
   ]
  },
  {
   "cell_type": "code",
   "execution_count": 2,
   "metadata": {},
   "outputs": [],
   "source": [
    "%matplotlib inline\n",
    "from matplotlib import pyplot as plt\n",
    "from matplotlib import rcParams\n",
    "import seaborn as sns"
   ]
  },
  {
   "cell_type": "code",
   "execution_count": 3,
   "metadata": {},
   "outputs": [],
   "source": [
    "toss_1 = [f'TMA1_reg{x}_v5' for x in [2,3,4,6,11,16,17,21,22,23,24,27]]\n",
    "toss_2 = [f'TMA2_reg{x}_v5' for x in [2,10,21,22,26,34]]\n",
    "toss_3 = [f'TMA3_reg{x}_v5' for x in [1,2,3,7,8,14,15,19,20,21,23,25,32,33]]\n",
    "toss_patterns = toss_1 + toss_2 + toss_3\n",
    "def maybe_toss(x):\n",
    "    for p in toss_patterns:\n",
    "        if p in x:\n",
    "            return True\n",
    "    return False"
   ]
  },
  {
   "cell_type": "code",
   "execution_count": 4,
   "metadata": {
    "scrolled": true
   },
   "outputs": [
    {
     "name": "stdout",
     "output_type": "stream",
     "text": [
      "76\n"
     ]
    },
    {
     "data": {
      "text/plain": [
       "['/storage/codex/preprocessed_data/210226_Bladder_TMA1_reg10/210226_Bladder_TMA1_reg10_v5.hdf5',\n",
       " '/storage/codex/preprocessed_data/210226_Bladder_TMA1_reg1/210226_Bladder_TMA1_reg1_v5.hdf5',\n",
       " '/storage/codex/preprocessed_data/210226_Bladder_TMA1_reg12/210226_Bladder_TMA1_reg12_v5.hdf5',\n",
       " '/storage/codex/preprocessed_data/210226_Bladder_TMA1_reg13/210226_Bladder_TMA1_reg13_v5.hdf5',\n",
       " '/storage/codex/preprocessed_data/210226_Bladder_TMA1_reg14/210226_Bladder_TMA1_reg14_v5.hdf5',\n",
       " '/storage/codex/preprocessed_data/210226_Bladder_TMA1_reg15/210226_Bladder_TMA1_reg15_v5.hdf5',\n",
       " '/storage/codex/preprocessed_data/210226_Bladder_TMA1_reg18/210226_Bladder_TMA1_reg18_v5.hdf5',\n",
       " '/storage/codex/preprocessed_data/210226_Bladder_TMA1_reg19/210226_Bladder_TMA1_reg19_v5.hdf5',\n",
       " '/storage/codex/preprocessed_data/210226_Bladder_TMA1_reg20/210226_Bladder_TMA1_reg20_v5.hdf5',\n",
       " '/storage/codex/preprocessed_data/210226_Bladder_TMA1_reg25/210226_Bladder_TMA1_reg25_v5.hdf5',\n",
       " '/storage/codex/preprocessed_data/210226_Bladder_TMA1_reg26/210226_Bladder_TMA1_reg26_v5.hdf5',\n",
       " '/storage/codex/preprocessed_data/210226_Bladder_TMA1_reg28/210226_Bladder_TMA1_reg28_v5.hdf5',\n",
       " '/storage/codex/preprocessed_data/210226_Bladder_TMA1_reg29/210226_Bladder_TMA1_reg29_v5.hdf5',\n",
       " '/storage/codex/preprocessed_data/210226_Bladder_TMA1_reg30/210226_Bladder_TMA1_reg30_v5.hdf5',\n",
       " '/storage/codex/preprocessed_data/210226_Bladder_TMA1_reg31/210226_Bladder_TMA1_reg31_v5.hdf5',\n",
       " '/storage/codex/preprocessed_data/210226_Bladder_TMA1_reg32/210226_Bladder_TMA1_reg32_v5.hdf5',\n",
       " '/storage/codex/preprocessed_data/210226_Bladder_TMA1_reg33/210226_Bladder_TMA1_reg33_v5.hdf5',\n",
       " '/storage/codex/preprocessed_data/210226_Bladder_TMA1_reg34/210226_Bladder_TMA1_reg34_v5.hdf5',\n",
       " '/storage/codex/preprocessed_data/210226_Bladder_TMA1_reg35/210226_Bladder_TMA1_reg35_v5.hdf5',\n",
       " '/storage/codex/preprocessed_data/210226_Bladder_TMA1_reg36/210226_Bladder_TMA1_reg36_v5.hdf5',\n",
       " '/storage/codex/preprocessed_data/210226_Bladder_TMA1_reg37/210226_Bladder_TMA1_reg37_v5.hdf5',\n",
       " '/storage/codex/preprocessed_data/210226_Bladder_TMA1_reg5/210226_Bladder_TMA1_reg5_v5.hdf5',\n",
       " '/storage/codex/preprocessed_data/210226_Bladder_TMA1_reg7/210226_Bladder_TMA1_reg7_v5.hdf5',\n",
       " '/storage/codex/preprocessed_data/210226_Bladder_TMA1_reg8/210226_Bladder_TMA1_reg8_v5.hdf5',\n",
       " '/storage/codex/preprocessed_data/210226_Bladder_TMA1_reg9/210226_Bladder_TMA1_reg9_v5.hdf5',\n",
       " '/storage/codex/preprocessed_data/210308_Bladder_TMA2_reg11/210308_Bladder_TMA2_reg11_v5.hdf5',\n",
       " '/storage/codex/preprocessed_data/210308_Bladder_TMA2_reg1/210308_Bladder_TMA2_reg1_v5.hdf5',\n",
       " '/storage/codex/preprocessed_data/210308_Bladder_TMA2_reg12/210308_Bladder_TMA2_reg12_v5.hdf5',\n",
       " '/storage/codex/preprocessed_data/210308_Bladder_TMA2_reg13/210308_Bladder_TMA2_reg13_v5.hdf5',\n",
       " '/storage/codex/preprocessed_data/210308_Bladder_TMA2_reg14/210308_Bladder_TMA2_reg14_v5.hdf5',\n",
       " '/storage/codex/preprocessed_data/210308_Bladder_TMA2_reg15/210308_Bladder_TMA2_reg15_v5.hdf5',\n",
       " '/storage/codex/preprocessed_data/210308_Bladder_TMA2_reg16/210308_Bladder_TMA2_reg16_v5.hdf5',\n",
       " '/storage/codex/preprocessed_data/210308_Bladder_TMA2_reg17/210308_Bladder_TMA2_reg17_v5.hdf5',\n",
       " '/storage/codex/preprocessed_data/210308_Bladder_TMA2_reg18/210308_Bladder_TMA2_reg18_v5.hdf5',\n",
       " '/storage/codex/preprocessed_data/210308_Bladder_TMA2_reg19/210308_Bladder_TMA2_reg19_v5.hdf5',\n",
       " '/storage/codex/preprocessed_data/210308_Bladder_TMA2_reg20/210308_Bladder_TMA2_reg20_v5.hdf5',\n",
       " '/storage/codex/preprocessed_data/210308_Bladder_TMA2_reg23/210308_Bladder_TMA2_reg23_v5.hdf5',\n",
       " '/storage/codex/preprocessed_data/210308_Bladder_TMA2_reg24/210308_Bladder_TMA2_reg24_v5.hdf5',\n",
       " '/storage/codex/preprocessed_data/210308_Bladder_TMA2_reg25/210308_Bladder_TMA2_reg25_v5.hdf5',\n",
       " '/storage/codex/preprocessed_data/210308_Bladder_TMA2_reg27/210308_Bladder_TMA2_reg27_v5.hdf5',\n",
       " '/storage/codex/preprocessed_data/210308_Bladder_TMA2_reg28/210308_Bladder_TMA2_reg28_v5.hdf5',\n",
       " '/storage/codex/preprocessed_data/210308_Bladder_TMA2_reg29/210308_Bladder_TMA2_reg29_v5.hdf5',\n",
       " '/storage/codex/preprocessed_data/210308_Bladder_TMA2_reg30/210308_Bladder_TMA2_reg30_v5.hdf5',\n",
       " '/storage/codex/preprocessed_data/210308_Bladder_TMA2_reg31/210308_Bladder_TMA2_reg31_v5.hdf5',\n",
       " '/storage/codex/preprocessed_data/210308_Bladder_TMA2_reg3/210308_Bladder_TMA2_reg3_v5.hdf5',\n",
       " '/storage/codex/preprocessed_data/210308_Bladder_TMA2_reg32/210308_Bladder_TMA2_reg32_v5.hdf5',\n",
       " '/storage/codex/preprocessed_data/210308_Bladder_TMA2_reg33/210308_Bladder_TMA2_reg33_v5.hdf5',\n",
       " '/storage/codex/preprocessed_data/210308_Bladder_TMA2_reg35/210308_Bladder_TMA2_reg35_v5.hdf5',\n",
       " '/storage/codex/preprocessed_data/210308_Bladder_TMA2_reg36/210308_Bladder_TMA2_reg36_v5.hdf5',\n",
       " '/storage/codex/preprocessed_data/210308_Bladder_TMA2_reg4/210308_Bladder_TMA2_reg4_v5.hdf5',\n",
       " '/storage/codex/preprocessed_data/210308_Bladder_TMA2_reg5/210308_Bladder_TMA2_reg5_v5.hdf5',\n",
       " '/storage/codex/preprocessed_data/210308_Bladder_TMA2_reg6/210308_Bladder_TMA2_reg6_v5.hdf5',\n",
       " '/storage/codex/preprocessed_data/210308_Bladder_TMA2_reg7/210308_Bladder_TMA2_reg7_v5.hdf5',\n",
       " '/storage/codex/preprocessed_data/210308_Bladder_TMA2_reg8/210308_Bladder_TMA2_reg8_v5.hdf5',\n",
       " '/storage/codex/preprocessed_data/210308_Bladder_TMA2_reg9/210308_Bladder_TMA2_reg9_v5.hdf5',\n",
       " '/storage/codex/preprocessed_data/210311_Bladder_TMA3_reg10/210311_Bladder_TMA3_reg10_v5.hdf5',\n",
       " '/storage/codex/preprocessed_data/210311_Bladder_TMA3_reg11/210311_Bladder_TMA3_reg11_v5.hdf5',\n",
       " '/storage/codex/preprocessed_data/210311_Bladder_TMA3_reg12/210311_Bladder_TMA3_reg12_v5.hdf5',\n",
       " '/storage/codex/preprocessed_data/210311_Bladder_TMA3_reg13/210311_Bladder_TMA3_reg13_v5.hdf5',\n",
       " '/storage/codex/preprocessed_data/210311_Bladder_TMA3_reg16/210311_Bladder_TMA3_reg16_v5.hdf5',\n",
       " '/storage/codex/preprocessed_data/210311_Bladder_TMA3_reg17/210311_Bladder_TMA3_reg17_v5.hdf5',\n",
       " '/storage/codex/preprocessed_data/210311_Bladder_TMA3_reg18/210311_Bladder_TMA3_reg18_v5.hdf5',\n",
       " '/storage/codex/preprocessed_data/210311_Bladder_TMA3_reg22/210311_Bladder_TMA3_reg22_v5.hdf5',\n",
       " '/storage/codex/preprocessed_data/210311_Bladder_TMA3_reg24/210311_Bladder_TMA3_reg24_v5.hdf5',\n",
       " '/storage/codex/preprocessed_data/210311_Bladder_TMA3_reg26/210311_Bladder_TMA3_reg26_v5.hdf5',\n",
       " '/storage/codex/preprocessed_data/210311_Bladder_TMA3_reg27/210311_Bladder_TMA3_reg27_v5.hdf5',\n",
       " '/storage/codex/preprocessed_data/210311_Bladder_TMA3_reg28/210311_Bladder_TMA3_reg28_v5.hdf5',\n",
       " '/storage/codex/preprocessed_data/210311_Bladder_TMA3_reg29/210311_Bladder_TMA3_reg29_v5.hdf5',\n",
       " '/storage/codex/preprocessed_data/210311_Bladder_TMA3_reg30/210311_Bladder_TMA3_reg30_v5.hdf5',\n",
       " '/storage/codex/preprocessed_data/210311_Bladder_TMA3_reg31/210311_Bladder_TMA3_reg31_v5.hdf5',\n",
       " '/storage/codex/preprocessed_data/210311_Bladder_TMA3_reg34/210311_Bladder_TMA3_reg34_v5.hdf5',\n",
       " '/storage/codex/preprocessed_data/210311_Bladder_TMA3_reg35/210311_Bladder_TMA3_reg35_v5.hdf5',\n",
       " '/storage/codex/preprocessed_data/210311_Bladder_TMA3_reg4/210311_Bladder_TMA3_reg4_v5.hdf5',\n",
       " '/storage/codex/preprocessed_data/210311_Bladder_TMA3_reg5/210311_Bladder_TMA3_reg5_v5.hdf5',\n",
       " '/storage/codex/preprocessed_data/210311_Bladder_TMA3_reg6/210311_Bladder_TMA3_reg6_v5.hdf5',\n",
       " '/storage/codex/preprocessed_data/210311_Bladder_TMA3_reg9/210311_Bladder_TMA3_reg9_v5.hdf5']"
      ]
     },
     "execution_count": 4,
     "metadata": {},
     "output_type": "execute_result"
    }
   ],
   "source": [
    "datasets = !ls -lha /storage/codex/preprocessed_data/*Bladder*/*_v5.hdf5 | awk '{print $9}'\n",
    "datasets = [d for d in datasets if not maybe_toss(d)]\n",
    "print(len(datasets))\n",
    "datasets"
   ]
  },
  {
   "cell_type": "code",
   "execution_count": null,
   "metadata": {},
   "outputs": [],
   "source": []
  },
  {
   "cell_type": "code",
   "execution_count": 5,
   "metadata": {
    "scrolled": true
   },
   "outputs": [
    {
     "name": "stdout",
     "output_type": "stream",
     "text": [
      "/storage/codex/preprocessed_data/210226_Bladder_TMA1_reg10/210226_Bladder_TMA1_reg10_v5.hdf5\n",
      "['cell_membrane_stats', 'cell_nuclei_stats', 'cells', 'images', 'meta', 'tile_stats']\n",
      "['Cell_IDs', 'Tile_IDs', 'bounding_boxes', 'cell_coordinates', 'channel_names', 'membrane_masks', 'nuclear_masks', 'tile_coordinates']\n",
      "Finished gathering obsm\n",
      "Loaded nuclear features: (6655, 720)\n",
      "Loaded membrane features: (6655, 720)\n",
      "Joined nuclear and membrane features: (6655, 1440)\n",
      "Joined nuclear and membrane features: 1440\n",
      "Generating AnnData object\n",
      "6655 6655\n"
     ]
    },
    {
     "data": {
      "application/vnd.jupyter.widget-view+json": {
       "model_id": "26cf1f2b14ba4fab8ec61597b801ea6d",
       "version_major": 2,
       "version_minor": 0
      },
      "text/plain": [
       "  0%|          | 0/6655 [00:00<?, ?it/s]"
      ]
     },
     "metadata": {},
     "output_type": "display_data"
    },
    {
     "name": "stdout",
     "output_type": "stream",
     "text": [
      "elapsed time: 19.4897s\n",
      "/storage/codex/preprocessed_data/210226_Bladder_TMA1_reg1/210226_Bladder_TMA1_reg1_v5.hdf5\n",
      "['cell_membrane_stats', 'cell_nuclei_stats', 'cells', 'images', 'meta', 'tile_stats']\n",
      "['Cell_IDs', 'Tile_IDs', 'bounding_boxes', 'cell_coordinates', 'channel_names', 'membrane_masks', 'nuclear_masks', 'tile_coordinates']\n",
      "Finished gathering obsm\n",
      "Loaded nuclear features: (13264, 720)\n",
      "Loaded membrane features: (13264, 720)\n",
      "Joined nuclear and membrane features: (13264, 1440)\n",
      "Joined nuclear and membrane features: 1440\n",
      "Generating AnnData object\n",
      "13264 13264\n"
     ]
    },
    {
     "data": {
      "application/vnd.jupyter.widget-view+json": {
       "model_id": "625b2ae00fe143f88af54d67b8a42ce5",
       "version_major": 2,
       "version_minor": 0
      },
      "text/plain": [
       "  0%|          | 0/13264 [00:00<?, ?it/s]"
      ]
     },
     "metadata": {},
     "output_type": "display_data"
    },
    {
     "name": "stdout",
     "output_type": "stream",
     "text": [
      "elapsed time: 39.1999s\n",
      "/storage/codex/preprocessed_data/210226_Bladder_TMA1_reg12/210226_Bladder_TMA1_reg12_v5.hdf5\n",
      "['cell_membrane_stats', 'cell_nuclei_stats', 'cells', 'images', 'meta', 'tile_stats']\n",
      "['Cell_IDs', 'Tile_IDs', 'bounding_boxes', 'cell_coordinates', 'channel_names', 'membrane_masks', 'nuclear_masks', 'tile_coordinates']\n",
      "Finished gathering obsm\n",
      "Loaded nuclear features: (5145, 720)\n",
      "Loaded membrane features: (5145, 720)\n",
      "Joined nuclear and membrane features: (5145, 1440)\n",
      "Joined nuclear and membrane features: 1440\n",
      "Generating AnnData object\n",
      "5145 5145\n"
     ]
    },
    {
     "data": {
      "application/vnd.jupyter.widget-view+json": {
       "model_id": "901fcaa05dbd4fa0ba0830f4afd78fee",
       "version_major": 2,
       "version_minor": 0
      },
      "text/plain": [
       "  0%|          | 0/5145 [00:00<?, ?it/s]"
      ]
     },
     "metadata": {},
     "output_type": "display_data"
    },
    {
     "name": "stdout",
     "output_type": "stream",
     "text": [
      "elapsed time: 15.2193s\n",
      "/storage/codex/preprocessed_data/210226_Bladder_TMA1_reg13/210226_Bladder_TMA1_reg13_v5.hdf5\n",
      "['cell_membrane_stats', 'cell_nuclei_stats', 'cells', 'images', 'meta', 'tile_stats']\n",
      "['Cell_IDs', 'Tile_IDs', 'bounding_boxes', 'cell_coordinates', 'channel_names', 'membrane_masks', 'nuclear_masks', 'tile_coordinates']\n",
      "Finished gathering obsm\n",
      "Loaded nuclear features: (8594, 720)\n",
      "Loaded membrane features: (8594, 720)\n",
      "Joined nuclear and membrane features: (8594, 1440)\n",
      "Joined nuclear and membrane features: 1440\n",
      "Generating AnnData object\n",
      "8594 8594\n"
     ]
    },
    {
     "data": {
      "application/vnd.jupyter.widget-view+json": {
       "model_id": "8f139ad5b79e4fb8b27c07637f6c7505",
       "version_major": 2,
       "version_minor": 0
      },
      "text/plain": [
       "  0%|          | 0/8594 [00:00<?, ?it/s]"
      ]
     },
     "metadata": {},
     "output_type": "display_data"
    },
    {
     "name": "stdout",
     "output_type": "stream",
     "text": [
      "elapsed time: 25.6343s\n",
      "/storage/codex/preprocessed_data/210226_Bladder_TMA1_reg14/210226_Bladder_TMA1_reg14_v5.hdf5\n",
      "['cell_membrane_stats', 'cell_nuclei_stats', 'cells', 'images', 'meta', 'tile_stats']\n",
      "['Cell_IDs', 'Tile_IDs', 'bounding_boxes', 'cell_coordinates', 'channel_names', 'membrane_masks', 'nuclear_masks', 'tile_coordinates']\n",
      "Finished gathering obsm\n",
      "Loaded nuclear features: (5255, 720)\n",
      "Loaded membrane features: (5255, 720)\n",
      "Joined nuclear and membrane features: (5255, 1440)\n",
      "Joined nuclear and membrane features: 1440\n",
      "Generating AnnData object\n",
      "5255 5255\n"
     ]
    },
    {
     "data": {
      "application/vnd.jupyter.widget-view+json": {
       "model_id": "148281e0a0d4404686101fdbb5bbe0c8",
       "version_major": 2,
       "version_minor": 0
      },
      "text/plain": [
       "  0%|          | 0/5255 [00:00<?, ?it/s]"
      ]
     },
     "metadata": {},
     "output_type": "display_data"
    },
    {
     "name": "stdout",
     "output_type": "stream",
     "text": [
      "elapsed time: 15.5122s\n",
      "/storage/codex/preprocessed_data/210226_Bladder_TMA1_reg15/210226_Bladder_TMA1_reg15_v5.hdf5\n",
      "['cell_membrane_stats', 'cell_nuclei_stats', 'cells', 'images', 'meta', 'tile_stats']\n",
      "['Cell_IDs', 'Tile_IDs', 'bounding_boxes', 'cell_coordinates', 'channel_names', 'membrane_masks', 'nuclear_masks', 'tile_coordinates']\n",
      "Finished gathering obsm\n",
      "Loaded nuclear features: (7310, 720)\n",
      "Loaded membrane features: (7310, 720)\n",
      "Joined nuclear and membrane features: (7310, 1440)\n",
      "Joined nuclear and membrane features: 1440\n",
      "Generating AnnData object\n",
      "7310 7310\n"
     ]
    },
    {
     "data": {
      "application/vnd.jupyter.widget-view+json": {
       "model_id": "b452df62c48442bd8a79e01e43f6f50c",
       "version_major": 2,
       "version_minor": 0
      },
      "text/plain": [
       "  0%|          | 0/7310 [00:00<?, ?it/s]"
      ]
     },
     "metadata": {},
     "output_type": "display_data"
    },
    {
     "name": "stdout",
     "output_type": "stream",
     "text": [
      "elapsed time: 21.6158s\n",
      "/storage/codex/preprocessed_data/210226_Bladder_TMA1_reg18/210226_Bladder_TMA1_reg18_v5.hdf5\n",
      "['cell_membrane_stats', 'cell_nuclei_stats', 'cells', 'images', 'meta', 'tile_stats']\n",
      "['Cell_IDs', 'Tile_IDs', 'bounding_boxes', 'cell_coordinates', 'channel_names', 'membrane_masks', 'nuclear_masks', 'tile_coordinates']\n",
      "Finished gathering obsm\n",
      "Loaded nuclear features: (8132, 720)\n",
      "Loaded membrane features: (8132, 720)\n",
      "Joined nuclear and membrane features: (8132, 1440)\n",
      "Joined nuclear and membrane features: 1440\n",
      "Generating AnnData object\n",
      "8132 8132\n"
     ]
    },
    {
     "data": {
      "application/vnd.jupyter.widget-view+json": {
       "model_id": "5aaae95c11d1490bb2fa1ec753ee9d2b",
       "version_major": 2,
       "version_minor": 0
      },
      "text/plain": [
       "  0%|          | 0/8132 [00:00<?, ?it/s]"
      ]
     },
     "metadata": {},
     "output_type": "display_data"
    },
    {
     "name": "stdout",
     "output_type": "stream",
     "text": [
      "elapsed time: 24.7523s\n",
      "/storage/codex/preprocessed_data/210226_Bladder_TMA1_reg19/210226_Bladder_TMA1_reg19_v5.hdf5\n",
      "['cell_membrane_stats', 'cell_nuclei_stats', 'cells', 'images', 'meta', 'tile_stats']\n",
      "['Cell_IDs', 'Tile_IDs', 'bounding_boxes', 'cell_coordinates', 'channel_names', 'membrane_masks', 'nuclear_masks', 'tile_coordinates']\n",
      "Finished gathering obsm\n",
      "Loaded nuclear features: (10050, 720)\n",
      "Loaded membrane features: (10050, 720)\n",
      "Joined nuclear and membrane features: (10050, 1440)\n",
      "Joined nuclear and membrane features: 1440\n",
      "Generating AnnData object\n",
      "10050 10050\n"
     ]
    },
    {
     "data": {
      "application/vnd.jupyter.widget-view+json": {
       "model_id": "6561b26b4a6e4dce8c5760f6bccefffa",
       "version_major": 2,
       "version_minor": 0
      },
      "text/plain": [
       "  0%|          | 0/10050 [00:00<?, ?it/s]"
      ]
     },
     "metadata": {},
     "output_type": "display_data"
    },
    {
     "name": "stdout",
     "output_type": "stream",
     "text": [
      "elapsed time: 30.2669s\n",
      "/storage/codex/preprocessed_data/210226_Bladder_TMA1_reg20/210226_Bladder_TMA1_reg20_v5.hdf5\n",
      "['cell_membrane_stats', 'cell_nuclei_stats', 'cells', 'images', 'meta', 'tile_stats']\n",
      "['Cell_IDs', 'Tile_IDs', 'bounding_boxes', 'cell_coordinates', 'channel_names', 'membrane_masks', 'nuclear_masks', 'tile_coordinates']\n",
      "Finished gathering obsm\n",
      "Loaded nuclear features: (10073, 720)\n",
      "Loaded membrane features: (10073, 720)\n",
      "Joined nuclear and membrane features: (10073, 1440)\n",
      "Joined nuclear and membrane features: 1440\n",
      "Generating AnnData object\n",
      "10073 10073\n"
     ]
    },
    {
     "data": {
      "application/vnd.jupyter.widget-view+json": {
       "model_id": "95071aa429ae4cb6b03f904b406da138",
       "version_major": 2,
       "version_minor": 0
      },
      "text/plain": [
       "  0%|          | 0/10073 [00:00<?, ?it/s]"
      ]
     },
     "metadata": {},
     "output_type": "display_data"
    },
    {
     "name": "stdout",
     "output_type": "stream",
     "text": [
      "elapsed time: 30.2173s\n",
      "/storage/codex/preprocessed_data/210226_Bladder_TMA1_reg25/210226_Bladder_TMA1_reg25_v5.hdf5\n",
      "['cell_membrane_stats', 'cell_nuclei_stats', 'cells', 'images', 'meta', 'tile_stats']\n",
      "['Cell_IDs', 'Tile_IDs', 'bounding_boxes', 'cell_coordinates', 'channel_names', 'membrane_masks', 'nuclear_masks', 'tile_coordinates']\n",
      "Finished gathering obsm\n",
      "Loaded nuclear features: (8970, 720)\n",
      "Loaded membrane features: (8970, 720)\n",
      "Joined nuclear and membrane features: (8970, 1440)\n",
      "Joined nuclear and membrane features: 1440\n",
      "Generating AnnData object\n",
      "8970 8970\n"
     ]
    },
    {
     "data": {
      "application/vnd.jupyter.widget-view+json": {
       "model_id": "a66cb1ce34174806a5e69f67792661b3",
       "version_major": 2,
       "version_minor": 0
      },
      "text/plain": [
       "  0%|          | 0/8970 [00:00<?, ?it/s]"
      ]
     },
     "metadata": {},
     "output_type": "display_data"
    },
    {
     "name": "stdout",
     "output_type": "stream",
     "text": [
      "elapsed time: 26.7624s\n",
      "/storage/codex/preprocessed_data/210226_Bladder_TMA1_reg26/210226_Bladder_TMA1_reg26_v5.hdf5\n",
      "['cell_membrane_stats', 'cell_nuclei_stats', 'cells', 'images', 'meta', 'tile_stats']\n",
      "['Cell_IDs', 'Tile_IDs', 'bounding_boxes', 'cell_coordinates', 'channel_names', 'membrane_masks', 'nuclear_masks', 'tile_coordinates']\n",
      "Finished gathering obsm\n",
      "Loaded nuclear features: (9045, 720)\n",
      "Loaded membrane features: (9045, 720)\n",
      "Joined nuclear and membrane features: (9045, 1440)\n",
      "Joined nuclear and membrane features: 1440\n",
      "Generating AnnData object\n",
      "9045 9045\n"
     ]
    },
    {
     "data": {
      "application/vnd.jupyter.widget-view+json": {
       "model_id": "8095ca0431374b52a6622eeadf02d341",
       "version_major": 2,
       "version_minor": 0
      },
      "text/plain": [
       "  0%|          | 0/9045 [00:00<?, ?it/s]"
      ]
     },
     "metadata": {},
     "output_type": "display_data"
    },
    {
     "name": "stdout",
     "output_type": "stream",
     "text": [
      "elapsed time: 27.0047s\n",
      "/storage/codex/preprocessed_data/210226_Bladder_TMA1_reg28/210226_Bladder_TMA1_reg28_v5.hdf5\n",
      "['cell_membrane_stats', 'cell_nuclei_stats', 'cells', 'images', 'meta', 'tile_stats']\n",
      "['Cell_IDs', 'Tile_IDs', 'bounding_boxes', 'cell_coordinates', 'channel_names', 'membrane_masks', 'nuclear_masks', 'tile_coordinates']\n",
      "Finished gathering obsm\n",
      "Loaded nuclear features: (14419, 720)\n",
      "Loaded membrane features: (14419, 720)\n",
      "Joined nuclear and membrane features: (14419, 1440)\n",
      "Joined nuclear and membrane features: 1440\n",
      "Generating AnnData object\n",
      "14419 14419\n"
     ]
    },
    {
     "data": {
      "application/vnd.jupyter.widget-view+json": {
       "model_id": "89db3ec1bd87423cb89bf0278a1fc849",
       "version_major": 2,
       "version_minor": 0
      },
      "text/plain": [
       "  0%|          | 0/14419 [00:00<?, ?it/s]"
      ]
     },
     "metadata": {},
     "output_type": "display_data"
    },
    {
     "name": "stdout",
     "output_type": "stream",
     "text": [
      "elapsed time: 43.1776s\n",
      "/storage/codex/preprocessed_data/210226_Bladder_TMA1_reg29/210226_Bladder_TMA1_reg29_v5.hdf5\n",
      "['cell_membrane_stats', 'cell_nuclei_stats', 'cells', 'meta']\n",
      "['Cell_IDs', 'cell_coordinates', 'channel_names', 'membrane_masks', 'nuclear_masks']\n",
      "Finished gathering obsm\n",
      "Loaded nuclear features: (7028, 720)\n",
      "Loaded membrane features: (7028, 720)\n",
      "Joined nuclear and membrane features: (7028, 1440)\n",
      "Joined nuclear and membrane features: 1440\n",
      "Generating AnnData object\n",
      "7028 7028\n"
     ]
    },
    {
     "data": {
      "application/vnd.jupyter.widget-view+json": {
       "model_id": "fc7519afeefd463eba323b5672806a3c",
       "version_major": 2,
       "version_minor": 0
      },
      "text/plain": [
       "  0%|          | 0/7028 [00:00<?, ?it/s]"
      ]
     },
     "metadata": {},
     "output_type": "display_data"
    },
    {
     "name": "stdout",
     "output_type": "stream",
     "text": [
      "elapsed time: 20.0475s\n",
      "/storage/codex/preprocessed_data/210226_Bladder_TMA1_reg30/210226_Bladder_TMA1_reg30_v5.hdf5\n",
      "['cell_membrane_stats', 'cell_nuclei_stats', 'cells', 'images', 'meta', 'tile_stats']\n",
      "['Cell_IDs', 'Tile_IDs', 'bounding_boxes', 'cell_coordinates', 'channel_names', 'membrane_masks', 'nuclear_masks', 'tile_coordinates']\n",
      "Finished gathering obsm\n",
      "Loaded nuclear features: (12983, 720)\n",
      "Loaded membrane features: (12983, 720)\n",
      "Joined nuclear and membrane features: (12983, 1440)\n",
      "Joined nuclear and membrane features: 1440\n",
      "Generating AnnData object\n",
      "12983 12983\n"
     ]
    },
    {
     "data": {
      "application/vnd.jupyter.widget-view+json": {
       "model_id": "4289161690604d38a7ceeaf79c2267c8",
       "version_major": 2,
       "version_minor": 0
      },
      "text/plain": [
       "  0%|          | 0/12983 [00:00<?, ?it/s]"
      ]
     },
     "metadata": {},
     "output_type": "display_data"
    },
    {
     "name": "stdout",
     "output_type": "stream",
     "text": [
      "elapsed time: 38.4459s\n",
      "/storage/codex/preprocessed_data/210226_Bladder_TMA1_reg31/210226_Bladder_TMA1_reg31_v5.hdf5\n",
      "['cell_membrane_stats', 'cell_nuclei_stats', 'cells', 'images', 'meta', 'tile_stats']\n",
      "['Cell_IDs', 'Tile_IDs', 'bounding_boxes', 'cell_coordinates', 'channel_names', 'membrane_masks', 'nuclear_masks', 'tile_coordinates']\n",
      "Finished gathering obsm\n",
      "Loaded nuclear features: (8417, 720)\n",
      "Loaded membrane features: (8417, 720)\n",
      "Joined nuclear and membrane features: (8417, 1440)\n",
      "Joined nuclear and membrane features: 1440\n",
      "Generating AnnData object\n",
      "8417 8417\n"
     ]
    },
    {
     "data": {
      "application/vnd.jupyter.widget-view+json": {
       "model_id": "e146467cb83b43b6a709a17beecfa5df",
       "version_major": 2,
       "version_minor": 0
      },
      "text/plain": [
       "  0%|          | 0/8417 [00:00<?, ?it/s]"
      ]
     },
     "metadata": {},
     "output_type": "display_data"
    },
    {
     "name": "stdout",
     "output_type": "stream",
     "text": [
      "elapsed time: 25.1246s\n",
      "/storage/codex/preprocessed_data/210226_Bladder_TMA1_reg32/210226_Bladder_TMA1_reg32_v5.hdf5\n",
      "['cell_membrane_stats', 'cell_nuclei_stats', 'cells', 'images', 'meta', 'tile_stats']\n",
      "['Cell_IDs', 'Tile_IDs', 'bounding_boxes', 'cell_coordinates', 'channel_names', 'membrane_masks', 'nuclear_masks', 'tile_coordinates']\n",
      "Finished gathering obsm\n",
      "Loaded nuclear features: (12793, 720)\n",
      "Loaded membrane features: (12793, 720)\n",
      "Joined nuclear and membrane features: (12793, 1440)\n",
      "Joined nuclear and membrane features: 1440\n",
      "Generating AnnData object\n",
      "12793 12793\n"
     ]
    },
    {
     "data": {
      "application/vnd.jupyter.widget-view+json": {
       "model_id": "f5b4703630aa4c3a8bd9d1605fedba2f",
       "version_major": 2,
       "version_minor": 0
      },
      "text/plain": [
       "  0%|          | 0/12793 [00:00<?, ?it/s]"
      ]
     },
     "metadata": {},
     "output_type": "display_data"
    },
    {
     "name": "stdout",
     "output_type": "stream",
     "text": [
      "elapsed time: 37.2716s\n",
      "/storage/codex/preprocessed_data/210226_Bladder_TMA1_reg33/210226_Bladder_TMA1_reg33_v5.hdf5\n",
      "['cell_membrane_stats', 'cell_nuclei_stats', 'cells', 'images', 'meta', 'tile_stats']\n",
      "['Cell_IDs', 'Tile_IDs', 'bounding_boxes', 'cell_coordinates', 'channel_names', 'membrane_masks', 'nuclear_masks', 'tile_coordinates']\n",
      "Finished gathering obsm\n",
      "Loaded nuclear features: (10912, 720)\n",
      "Loaded membrane features: (10912, 720)\n",
      "Joined nuclear and membrane features: (10912, 1440)\n",
      "Joined nuclear and membrane features: 1440\n",
      "Generating AnnData object\n",
      "10912 10912\n"
     ]
    },
    {
     "data": {
      "application/vnd.jupyter.widget-view+json": {
       "model_id": "4e79bf40253240ab8642c0cd336976b2",
       "version_major": 2,
       "version_minor": 0
      },
      "text/plain": [
       "  0%|          | 0/10912 [00:00<?, ?it/s]"
      ]
     },
     "metadata": {},
     "output_type": "display_data"
    },
    {
     "name": "stdout",
     "output_type": "stream",
     "text": [
      "elapsed time: 32.1679s\n",
      "/storage/codex/preprocessed_data/210226_Bladder_TMA1_reg34/210226_Bladder_TMA1_reg34_v5.hdf5\n",
      "['cell_membrane_stats', 'cell_nuclei_stats', 'cells', 'images', 'meta', 'tile_stats']\n",
      "['Cell_IDs', 'Tile_IDs', 'bounding_boxes', 'cell_coordinates', 'channel_names', 'membrane_masks', 'nuclear_masks', 'tile_coordinates']\n",
      "Finished gathering obsm\n",
      "Loaded nuclear features: (4863, 720)\n",
      "Loaded membrane features: (4863, 720)\n",
      "Joined nuclear and membrane features: (4863, 1440)\n",
      "Joined nuclear and membrane features: 1440\n",
      "Generating AnnData object\n",
      "4863 4863\n"
     ]
    },
    {
     "data": {
      "application/vnd.jupyter.widget-view+json": {
       "model_id": "3efc8a923cf44aaba0b52bfc9620e1a1",
       "version_major": 2,
       "version_minor": 0
      },
      "text/plain": [
       "  0%|          | 0/4863 [00:00<?, ?it/s]"
      ]
     },
     "metadata": {},
     "output_type": "display_data"
    },
    {
     "name": "stdout",
     "output_type": "stream",
     "text": [
      "elapsed time: 14.9050s\n",
      "/storage/codex/preprocessed_data/210226_Bladder_TMA1_reg35/210226_Bladder_TMA1_reg35_v5.hdf5\n",
      "['cell_membrane_stats', 'cell_nuclei_stats', 'cells', 'images', 'meta', 'tile_stats']\n",
      "['Cell_IDs', 'Tile_IDs', 'bounding_boxes', 'cell_coordinates', 'channel_names', 'membrane_masks', 'nuclear_masks', 'tile_coordinates']\n",
      "Finished gathering obsm\n",
      "Loaded nuclear features: (21179, 720)\n",
      "Loaded membrane features: (21179, 720)\n",
      "Joined nuclear and membrane features: (21179, 1440)\n",
      "Joined nuclear and membrane features: 1440\n",
      "Generating AnnData object\n",
      "21179 21179\n"
     ]
    },
    {
     "data": {
      "application/vnd.jupyter.widget-view+json": {
       "model_id": "94734ba9f2b3457d8422016dea60d076",
       "version_major": 2,
       "version_minor": 0
      },
      "text/plain": [
       "  0%|          | 0/21179 [00:00<?, ?it/s]"
      ]
     },
     "metadata": {},
     "output_type": "display_data"
    },
    {
     "name": "stdout",
     "output_type": "stream",
     "text": [
      "elapsed time: 63.3352s\n",
      "/storage/codex/preprocessed_data/210226_Bladder_TMA1_reg36/210226_Bladder_TMA1_reg36_v5.hdf5\n",
      "['cell_membrane_stats', 'cell_nuclei_stats', 'cells', 'images', 'meta', 'tile_stats']\n",
      "['Cell_IDs', 'Tile_IDs', 'bounding_boxes', 'cell_coordinates', 'channel_names', 'membrane_masks', 'nuclear_masks', 'tile_coordinates']\n",
      "Finished gathering obsm\n",
      "Loaded nuclear features: (6673, 720)\n",
      "Loaded membrane features: (6673, 720)\n",
      "Joined nuclear and membrane features: (6673, 1440)\n",
      "Joined nuclear and membrane features: 1440\n",
      "Generating AnnData object\n",
      "6673 6673\n"
     ]
    },
    {
     "data": {
      "application/vnd.jupyter.widget-view+json": {
       "model_id": "b2e122b4c98a43d6b8ba44f93c926740",
       "version_major": 2,
       "version_minor": 0
      },
      "text/plain": [
       "  0%|          | 0/6673 [00:00<?, ?it/s]"
      ]
     },
     "metadata": {},
     "output_type": "display_data"
    },
    {
     "name": "stdout",
     "output_type": "stream",
     "text": [
      "elapsed time: 20.0528s\n",
      "/storage/codex/preprocessed_data/210226_Bladder_TMA1_reg37/210226_Bladder_TMA1_reg37_v5.hdf5\n",
      "['cell_membrane_stats', 'cell_nuclei_stats', 'cells', 'images', 'meta', 'tile_stats']\n",
      "['Cell_IDs', 'Tile_IDs', 'bounding_boxes', 'cell_coordinates', 'channel_names', 'membrane_masks', 'nuclear_masks', 'tile_coordinates']\n",
      "Finished gathering obsm\n",
      "Loaded nuclear features: (8027, 720)\n",
      "Loaded membrane features: (8027, 720)\n",
      "Joined nuclear and membrane features: (8027, 1440)\n",
      "Joined nuclear and membrane features: 1440\n",
      "Generating AnnData object\n",
      "8027 8027\n"
     ]
    },
    {
     "data": {
      "application/vnd.jupyter.widget-view+json": {
       "model_id": "3dcc36c9750b4f1bbcf391c04390dd93",
       "version_major": 2,
       "version_minor": 0
      },
      "text/plain": [
       "  0%|          | 0/8027 [00:00<?, ?it/s]"
      ]
     },
     "metadata": {},
     "output_type": "display_data"
    },
    {
     "name": "stdout",
     "output_type": "stream",
     "text": [
      "elapsed time: 23.8959s\n",
      "/storage/codex/preprocessed_data/210226_Bladder_TMA1_reg5/210226_Bladder_TMA1_reg5_v5.hdf5\n",
      "['cell_membrane_stats', 'cell_nuclei_stats', 'cells', 'images', 'meta', 'tile_stats']\n",
      "['Cell_IDs', 'Tile_IDs', 'bounding_boxes', 'cell_coordinates', 'channel_names', 'membrane_masks', 'nuclear_masks', 'tile_coordinates']\n",
      "Finished gathering obsm\n",
      "Loaded nuclear features: (11291, 720)\n",
      "Loaded membrane features: (11291, 720)\n",
      "Joined nuclear and membrane features: (11291, 1440)\n",
      "Joined nuclear and membrane features: 1440\n",
      "Generating AnnData object\n",
      "11291 11291\n"
     ]
    },
    {
     "data": {
      "application/vnd.jupyter.widget-view+json": {
       "model_id": "eb9d472da2574db1ba2af336036a100d",
       "version_major": 2,
       "version_minor": 0
      },
      "text/plain": [
       "  0%|          | 0/11291 [00:00<?, ?it/s]"
      ]
     },
     "metadata": {},
     "output_type": "display_data"
    },
    {
     "name": "stdout",
     "output_type": "stream",
     "text": [
      "elapsed time: 33.5856s\n",
      "/storage/codex/preprocessed_data/210226_Bladder_TMA1_reg7/210226_Bladder_TMA1_reg7_v5.hdf5\n",
      "['cell_membrane_stats', 'cell_nuclei_stats', 'cells', 'images', 'meta', 'tile_stats']\n",
      "['Cell_IDs', 'Tile_IDs', 'bounding_boxes', 'cell_coordinates', 'channel_names', 'membrane_masks', 'nuclear_masks', 'tile_coordinates']\n",
      "Finished gathering obsm\n",
      "Loaded nuclear features: (8769, 720)\n",
      "Loaded membrane features: (8769, 720)\n",
      "Joined nuclear and membrane features: (8769, 1440)\n",
      "Joined nuclear and membrane features: 1440\n",
      "Generating AnnData object\n",
      "8769 8769\n"
     ]
    },
    {
     "data": {
      "application/vnd.jupyter.widget-view+json": {
       "model_id": "4a5658c4c615479aba438d6cd9e2eef7",
       "version_major": 2,
       "version_minor": 0
      },
      "text/plain": [
       "  0%|          | 0/8769 [00:00<?, ?it/s]"
      ]
     },
     "metadata": {},
     "output_type": "display_data"
    },
    {
     "name": "stdout",
     "output_type": "stream",
     "text": [
      "elapsed time: 26.1977s\n",
      "/storage/codex/preprocessed_data/210226_Bladder_TMA1_reg8/210226_Bladder_TMA1_reg8_v5.hdf5\n",
      "['cell_membrane_stats', 'cell_nuclei_stats', 'cells', 'images', 'meta', 'tile_stats']\n",
      "['Cell_IDs', 'Tile_IDs', 'bounding_boxes', 'cell_coordinates', 'channel_names', 'membrane_masks', 'nuclear_masks', 'tile_coordinates']\n",
      "Finished gathering obsm\n",
      "Loaded nuclear features: (11675, 720)\n",
      "Loaded membrane features: (11675, 720)\n",
      "Joined nuclear and membrane features: (11675, 1440)\n",
      "Joined nuclear and membrane features: 1440\n",
      "Generating AnnData object\n",
      "11675 11675\n"
     ]
    },
    {
     "data": {
      "application/vnd.jupyter.widget-view+json": {
       "model_id": "cea329d3b4d04763beeeaf9948d433e3",
       "version_major": 2,
       "version_minor": 0
      },
      "text/plain": [
       "  0%|          | 0/11675 [00:00<?, ?it/s]"
      ]
     },
     "metadata": {},
     "output_type": "display_data"
    },
    {
     "name": "stdout",
     "output_type": "stream",
     "text": [
      "elapsed time: 34.9292s\n",
      "/storage/codex/preprocessed_data/210226_Bladder_TMA1_reg9/210226_Bladder_TMA1_reg9_v5.hdf5\n",
      "['cell_membrane_stats', 'cell_nuclei_stats', 'cells', 'images', 'meta', 'tile_stats']\n",
      "['Cell_IDs', 'Tile_IDs', 'bounding_boxes', 'cell_coordinates', 'channel_names', 'membrane_masks', 'nuclear_masks', 'tile_coordinates']\n",
      "Finished gathering obsm\n",
      "Loaded nuclear features: (4938, 720)\n",
      "Loaded membrane features: (4938, 720)\n",
      "Joined nuclear and membrane features: (4938, 1440)\n",
      "Joined nuclear and membrane features: 1440\n",
      "Generating AnnData object\n",
      "4938 4938\n"
     ]
    },
    {
     "data": {
      "application/vnd.jupyter.widget-view+json": {
       "model_id": "c037abd451c74612838a0162aa32205b",
       "version_major": 2,
       "version_minor": 0
      },
      "text/plain": [
       "  0%|          | 0/4938 [00:00<?, ?it/s]"
      ]
     },
     "metadata": {},
     "output_type": "display_data"
    },
    {
     "name": "stdout",
     "output_type": "stream",
     "text": [
      "elapsed time: 14.7572s\n",
      "/storage/codex/preprocessed_data/210308_Bladder_TMA2_reg11/210308_Bladder_TMA2_reg11_v5.hdf5\n",
      "['cell_membrane_stats', 'cell_nuclei_stats', 'cells', 'meta']\n",
      "['Cell_IDs', 'cell_coordinates', 'channel_names', 'membrane_masks', 'nuclear_masks']\n",
      "Finished gathering obsm\n",
      "Loaded nuclear features: (8274, 720)\n",
      "Loaded membrane features: (8274, 720)\n",
      "Joined nuclear and membrane features: (8274, 1440)\n",
      "Joined nuclear and membrane features: 1440\n",
      "Generating AnnData object\n",
      "8274 8274\n"
     ]
    },
    {
     "data": {
      "application/vnd.jupyter.widget-view+json": {
       "model_id": "1dc7ec42cbc54735b18bb7f48ec24b65",
       "version_major": 2,
       "version_minor": 0
      },
      "text/plain": [
       "  0%|          | 0/8274 [00:00<?, ?it/s]"
      ]
     },
     "metadata": {},
     "output_type": "display_data"
    },
    {
     "name": "stdout",
     "output_type": "stream",
     "text": [
      "elapsed time: 24.9562s\n",
      "/storage/codex/preprocessed_data/210308_Bladder_TMA2_reg1/210308_Bladder_TMA2_reg1_v5.hdf5\n",
      "['cell_membrane_stats', 'cell_nuclei_stats', 'cells', 'meta']\n",
      "['Cell_IDs', 'cell_coordinates', 'channel_names', 'membrane_masks', 'nuclear_masks']\n",
      "Finished gathering obsm\n",
      "Loaded nuclear features: (8688, 720)\n",
      "Loaded membrane features: (8688, 720)\n",
      "Joined nuclear and membrane features: (8688, 1440)\n",
      "Joined nuclear and membrane features: 1440\n",
      "Generating AnnData object\n",
      "8688 8688\n"
     ]
    },
    {
     "data": {
      "application/vnd.jupyter.widget-view+json": {
       "model_id": "44e4730ef40c46dabf5574d96bb31ab6",
       "version_major": 2,
       "version_minor": 0
      },
      "text/plain": [
       "  0%|          | 0/8688 [00:00<?, ?it/s]"
      ]
     },
     "metadata": {},
     "output_type": "display_data"
    },
    {
     "name": "stdout",
     "output_type": "stream",
     "text": [
      "elapsed time: 26.0176s\n",
      "/storage/codex/preprocessed_data/210308_Bladder_TMA2_reg12/210308_Bladder_TMA2_reg12_v5.hdf5\n",
      "['cell_membrane_stats', 'cell_nuclei_stats', 'cells', 'meta']\n",
      "['Cell_IDs', 'cell_coordinates', 'channel_names', 'membrane_masks', 'nuclear_masks']\n",
      "Finished gathering obsm\n",
      "Loaded nuclear features: (9705, 720)\n",
      "Loaded membrane features: (9705, 720)\n",
      "Joined nuclear and membrane features: (9705, 1440)\n",
      "Joined nuclear and membrane features: 1440\n",
      "Generating AnnData object\n",
      "9705 9705\n"
     ]
    },
    {
     "data": {
      "application/vnd.jupyter.widget-view+json": {
       "model_id": "07d6487ffeee499a8e46049e88bced2d",
       "version_major": 2,
       "version_minor": 0
      },
      "text/plain": [
       "  0%|          | 0/9705 [00:00<?, ?it/s]"
      ]
     },
     "metadata": {},
     "output_type": "display_data"
    },
    {
     "name": "stdout",
     "output_type": "stream",
     "text": [
      "elapsed time: 28.3271s\n",
      "/storage/codex/preprocessed_data/210308_Bladder_TMA2_reg13/210308_Bladder_TMA2_reg13_v5.hdf5\n",
      "['cell_membrane_stats', 'cell_nuclei_stats', 'cells', 'meta']\n",
      "['Cell_IDs', 'cell_coordinates', 'channel_names', 'membrane_masks', 'nuclear_masks']\n",
      "Finished gathering obsm\n",
      "Loaded nuclear features: (7066, 720)\n",
      "Loaded membrane features: (7066, 720)\n",
      "Joined nuclear and membrane features: (7066, 1440)\n",
      "Joined nuclear and membrane features: 1440\n",
      "Generating AnnData object\n",
      "7066 7066\n"
     ]
    },
    {
     "data": {
      "application/vnd.jupyter.widget-view+json": {
       "model_id": "d6f1b56026d84ada820e1ebb5c8f82b5",
       "version_major": 2,
       "version_minor": 0
      },
      "text/plain": [
       "  0%|          | 0/7066 [00:00<?, ?it/s]"
      ]
     },
     "metadata": {},
     "output_type": "display_data"
    },
    {
     "name": "stdout",
     "output_type": "stream",
     "text": [
      "elapsed time: 20.4792s\n",
      "/storage/codex/preprocessed_data/210308_Bladder_TMA2_reg14/210308_Bladder_TMA2_reg14_v5.hdf5\n",
      "['cell_membrane_stats', 'cell_nuclei_stats', 'cells', 'meta']\n",
      "['Cell_IDs', 'cell_coordinates', 'channel_names', 'membrane_masks', 'nuclear_masks']\n",
      "Finished gathering obsm\n",
      "Loaded nuclear features: (5400, 720)\n",
      "Loaded membrane features: (5400, 720)\n",
      "Joined nuclear and membrane features: (5400, 1440)\n",
      "Joined nuclear and membrane features: 1440\n",
      "Generating AnnData object\n",
      "5400 5400\n"
     ]
    },
    {
     "data": {
      "application/vnd.jupyter.widget-view+json": {
       "model_id": "445128be587f4d8f9bde0d3393002d99",
       "version_major": 2,
       "version_minor": 0
      },
      "text/plain": [
       "  0%|          | 0/5400 [00:00<?, ?it/s]"
      ]
     },
     "metadata": {},
     "output_type": "display_data"
    },
    {
     "name": "stdout",
     "output_type": "stream",
     "text": [
      "elapsed time: 14.7146s\n",
      "/storage/codex/preprocessed_data/210308_Bladder_TMA2_reg15/210308_Bladder_TMA2_reg15_v5.hdf5\n",
      "['cell_membrane_stats', 'cell_nuclei_stats', 'cells', 'meta']\n",
      "['Cell_IDs', 'cell_coordinates', 'channel_names', 'membrane_masks', 'nuclear_masks']\n",
      "Finished gathering obsm\n",
      "Loaded nuclear features: (1495, 720)\n",
      "Loaded membrane features: (1495, 720)\n",
      "Joined nuclear and membrane features: (1495, 1440)\n",
      "Joined nuclear and membrane features: 1440\n",
      "Generating AnnData object\n",
      "1495 1495\n"
     ]
    },
    {
     "data": {
      "application/vnd.jupyter.widget-view+json": {
       "model_id": "323aafe0e34a4c9592798c9df00c1637",
       "version_major": 2,
       "version_minor": 0
      },
      "text/plain": [
       "  0%|          | 0/1495 [00:00<?, ?it/s]"
      ]
     },
     "metadata": {},
     "output_type": "display_data"
    },
    {
     "name": "stdout",
     "output_type": "stream",
     "text": [
      "elapsed time: 4.3192s\n",
      "/storage/codex/preprocessed_data/210308_Bladder_TMA2_reg16/210308_Bladder_TMA2_reg16_v5.hdf5\n",
      "['cell_membrane_stats', 'cell_nuclei_stats', 'cells', 'meta']\n",
      "['Cell_IDs', 'cell_coordinates', 'channel_names', 'membrane_masks', 'nuclear_masks']\n",
      "Finished gathering obsm\n",
      "Loaded nuclear features: (6844, 720)\n",
      "Loaded membrane features: (6844, 720)\n",
      "Joined nuclear and membrane features: (6844, 1440)\n",
      "Joined nuclear and membrane features: 1440\n",
      "Generating AnnData object\n",
      "6844 6844\n"
     ]
    },
    {
     "data": {
      "application/vnd.jupyter.widget-view+json": {
       "model_id": "2d66596b49d3490b91039d7c210be477",
       "version_major": 2,
       "version_minor": 0
      },
      "text/plain": [
       "  0%|          | 0/6844 [00:00<?, ?it/s]"
      ]
     },
     "metadata": {},
     "output_type": "display_data"
    },
    {
     "name": "stdout",
     "output_type": "stream",
     "text": [
      "elapsed time: 20.2310s\n",
      "/storage/codex/preprocessed_data/210308_Bladder_TMA2_reg17/210308_Bladder_TMA2_reg17_v5.hdf5\n",
      "['cell_membrane_stats', 'cell_nuclei_stats', 'cells', 'meta']\n",
      "['Cell_IDs', 'cell_coordinates', 'channel_names', 'membrane_masks', 'nuclear_masks']\n",
      "Finished gathering obsm\n",
      "Loaded nuclear features: (10743, 720)\n",
      "Loaded membrane features: (10743, 720)\n",
      "Joined nuclear and membrane features: (10743, 1440)\n",
      "Joined nuclear and membrane features: 1440\n",
      "Generating AnnData object\n",
      "10743 10743\n"
     ]
    },
    {
     "data": {
      "application/vnd.jupyter.widget-view+json": {
       "model_id": "5f272fe1fa40419eb672a3805433968e",
       "version_major": 2,
       "version_minor": 0
      },
      "text/plain": [
       "  0%|          | 0/10743 [00:00<?, ?it/s]"
      ]
     },
     "metadata": {},
     "output_type": "display_data"
    },
    {
     "name": "stdout",
     "output_type": "stream",
     "text": [
      "elapsed time: 32.0616s\n",
      "/storage/codex/preprocessed_data/210308_Bladder_TMA2_reg18/210308_Bladder_TMA2_reg18_v5.hdf5\n",
      "['cell_membrane_stats', 'cell_nuclei_stats', 'cells', 'meta']\n",
      "['Cell_IDs', 'cell_coordinates', 'channel_names', 'membrane_masks', 'nuclear_masks']\n",
      "Finished gathering obsm\n",
      "Loaded nuclear features: (10835, 720)\n",
      "Loaded membrane features: (10835, 720)\n",
      "Joined nuclear and membrane features: (10835, 1440)\n",
      "Joined nuclear and membrane features: 1440\n",
      "Generating AnnData object\n",
      "10835 10835\n"
     ]
    },
    {
     "data": {
      "application/vnd.jupyter.widget-view+json": {
       "model_id": "a719a0d58afe44d286391059baf9adc2",
       "version_major": 2,
       "version_minor": 0
      },
      "text/plain": [
       "  0%|          | 0/10835 [00:00<?, ?it/s]"
      ]
     },
     "metadata": {},
     "output_type": "display_data"
    },
    {
     "name": "stdout",
     "output_type": "stream",
     "text": [
      "elapsed time: 32.0985s\n",
      "/storage/codex/preprocessed_data/210308_Bladder_TMA2_reg19/210308_Bladder_TMA2_reg19_v5.hdf5\n",
      "['cell_membrane_stats', 'cell_nuclei_stats', 'cells', 'meta']\n",
      "['Cell_IDs', 'cell_coordinates', 'channel_names', 'membrane_masks', 'nuclear_masks']\n",
      "Finished gathering obsm\n",
      "Loaded nuclear features: (8301, 720)\n",
      "Loaded membrane features: (8301, 720)\n",
      "Joined nuclear and membrane features: (8301, 1440)\n",
      "Joined nuclear and membrane features: 1440\n",
      "Generating AnnData object\n",
      "8301 8301\n"
     ]
    },
    {
     "data": {
      "application/vnd.jupyter.widget-view+json": {
       "model_id": "80ebddc6d8174a0a8a999a0eca10fd80",
       "version_major": 2,
       "version_minor": 0
      },
      "text/plain": [
       "  0%|          | 0/8301 [00:00<?, ?it/s]"
      ]
     },
     "metadata": {},
     "output_type": "display_data"
    },
    {
     "name": "stdout",
     "output_type": "stream",
     "text": [
      "elapsed time: 24.6314s\n",
      "/storage/codex/preprocessed_data/210308_Bladder_TMA2_reg20/210308_Bladder_TMA2_reg20_v5.hdf5\n",
      "['cell_membrane_stats', 'cell_nuclei_stats', 'cells', 'meta']\n",
      "['Cell_IDs', 'cell_coordinates', 'channel_names', 'membrane_masks', 'nuclear_masks']\n",
      "Finished gathering obsm\n",
      "Loaded nuclear features: (639, 720)\n",
      "Loaded membrane features: (639, 720)\n",
      "Joined nuclear and membrane features: (639, 1440)\n",
      "Joined nuclear and membrane features: 1440\n",
      "Generating AnnData object\n",
      "639 639\n"
     ]
    },
    {
     "data": {
      "application/vnd.jupyter.widget-view+json": {
       "model_id": "c22274e2b6834caf8891a90c2bbcf495",
       "version_major": 2,
       "version_minor": 0
      },
      "text/plain": [
       "  0%|          | 0/639 [00:00<?, ?it/s]"
      ]
     },
     "metadata": {},
     "output_type": "display_data"
    },
    {
     "name": "stdout",
     "output_type": "stream",
     "text": [
      "elapsed time: 2.1574s\n",
      "/storage/codex/preprocessed_data/210308_Bladder_TMA2_reg23/210308_Bladder_TMA2_reg23_v5.hdf5\n",
      "['cell_membrane_stats', 'cell_nuclei_stats', 'cells', 'meta']\n",
      "['Cell_IDs', 'cell_coordinates', 'channel_names', 'membrane_masks', 'nuclear_masks']\n",
      "Finished gathering obsm\n",
      "Loaded nuclear features: (7901, 720)\n",
      "Loaded membrane features: (7901, 720)\n",
      "Joined nuclear and membrane features: (7901, 1440)\n",
      "Joined nuclear and membrane features: 1440\n",
      "Generating AnnData object\n",
      "7901 7901\n"
     ]
    },
    {
     "data": {
      "application/vnd.jupyter.widget-view+json": {
       "model_id": "b7f9e9a4f4f941f18826e39ecd6ced1f",
       "version_major": 2,
       "version_minor": 0
      },
      "text/plain": [
       "  0%|          | 0/7901 [00:00<?, ?it/s]"
      ]
     },
     "metadata": {},
     "output_type": "display_data"
    },
    {
     "name": "stdout",
     "output_type": "stream",
     "text": [
      "elapsed time: 22.6959s\n",
      "/storage/codex/preprocessed_data/210308_Bladder_TMA2_reg24/210308_Bladder_TMA2_reg24_v5.hdf5\n",
      "['cell_membrane_stats', 'cell_nuclei_stats', 'cells', 'meta']\n",
      "['Cell_IDs', 'cell_coordinates', 'channel_names', 'membrane_masks', 'nuclear_masks']\n",
      "Finished gathering obsm\n",
      "Loaded nuclear features: (8554, 720)\n",
      "Loaded membrane features: (8554, 720)\n",
      "Joined nuclear and membrane features: (8554, 1440)\n",
      "Joined nuclear and membrane features: 1440\n",
      "Generating AnnData object\n",
      "8554 8554\n"
     ]
    },
    {
     "data": {
      "application/vnd.jupyter.widget-view+json": {
       "model_id": "c2a5d1ae806d4a4294d45f3f61033661",
       "version_major": 2,
       "version_minor": 0
      },
      "text/plain": [
       "  0%|          | 0/8554 [00:00<?, ?it/s]"
      ]
     },
     "metadata": {},
     "output_type": "display_data"
    },
    {
     "name": "stdout",
     "output_type": "stream",
     "text": [
      "elapsed time: 25.1974s\n",
      "/storage/codex/preprocessed_data/210308_Bladder_TMA2_reg25/210308_Bladder_TMA2_reg25_v5.hdf5\n",
      "['cell_membrane_stats', 'cell_nuclei_stats', 'cells', 'meta']\n",
      "['Cell_IDs', 'cell_coordinates', 'channel_names', 'membrane_masks', 'nuclear_masks']\n",
      "Finished gathering obsm\n",
      "Loaded nuclear features: (7703, 720)\n",
      "Loaded membrane features: (7703, 720)\n",
      "Joined nuclear and membrane features: (7703, 1440)\n",
      "Joined nuclear and membrane features: 1440\n",
      "Generating AnnData object\n",
      "7703 7703\n"
     ]
    },
    {
     "data": {
      "application/vnd.jupyter.widget-view+json": {
       "model_id": "519c8b35cae94cd0ad5be396fa194e03",
       "version_major": 2,
       "version_minor": 0
      },
      "text/plain": [
       "  0%|          | 0/7703 [00:00<?, ?it/s]"
      ]
     },
     "metadata": {},
     "output_type": "display_data"
    },
    {
     "name": "stdout",
     "output_type": "stream",
     "text": [
      "elapsed time: 21.7509s\n",
      "/storage/codex/preprocessed_data/210308_Bladder_TMA2_reg27/210308_Bladder_TMA2_reg27_v5.hdf5\n",
      "['cell_membrane_stats', 'cell_nuclei_stats', 'cells', 'meta']\n",
      "['Cell_IDs', 'cell_coordinates', 'channel_names', 'membrane_masks', 'nuclear_masks']\n",
      "Finished gathering obsm\n",
      "Loaded nuclear features: (8274, 720)\n",
      "Loaded membrane features: (8274, 720)\n",
      "Joined nuclear and membrane features: (8274, 1440)\n",
      "Joined nuclear and membrane features: 1440\n",
      "Generating AnnData object\n",
      "8274 8274\n"
     ]
    },
    {
     "data": {
      "application/vnd.jupyter.widget-view+json": {
       "model_id": "758ec3143aed456e8c2a9bf7d3be4063",
       "version_major": 2,
       "version_minor": 0
      },
      "text/plain": [
       "  0%|          | 0/8274 [00:00<?, ?it/s]"
      ]
     },
     "metadata": {},
     "output_type": "display_data"
    },
    {
     "name": "stdout",
     "output_type": "stream",
     "text": [
      "elapsed time: 23.2467s\n",
      "/storage/codex/preprocessed_data/210308_Bladder_TMA2_reg28/210308_Bladder_TMA2_reg28_v5.hdf5\n",
      "['cell_membrane_stats', 'cell_nuclei_stats', 'cells', 'meta']\n",
      "['Cell_IDs', 'cell_coordinates', 'channel_names', 'membrane_masks', 'nuclear_masks']\n",
      "Finished gathering obsm\n",
      "Loaded nuclear features: (16028, 720)\n",
      "Loaded membrane features: (16028, 720)\n",
      "Joined nuclear and membrane features: (16028, 1440)\n",
      "Joined nuclear and membrane features: 1440\n",
      "Generating AnnData object\n",
      "16028 16028\n"
     ]
    },
    {
     "data": {
      "application/vnd.jupyter.widget-view+json": {
       "model_id": "80ae540652b3451ba7acfb36a79d2b25",
       "version_major": 2,
       "version_minor": 0
      },
      "text/plain": [
       "  0%|          | 0/16028 [00:00<?, ?it/s]"
      ]
     },
     "metadata": {},
     "output_type": "display_data"
    },
    {
     "name": "stdout",
     "output_type": "stream",
     "text": [
      "elapsed time: 47.2646s\n",
      "/storage/codex/preprocessed_data/210308_Bladder_TMA2_reg29/210308_Bladder_TMA2_reg29_v5.hdf5\n",
      "['cell_membrane_stats', 'cell_nuclei_stats', 'cells', 'meta']\n",
      "['Cell_IDs', 'cell_coordinates', 'channel_names', 'membrane_masks', 'nuclear_masks']\n",
      "Finished gathering obsm\n",
      "Loaded nuclear features: (12978, 720)\n",
      "Loaded membrane features: (12978, 720)\n",
      "Joined nuclear and membrane features: (12978, 1440)\n",
      "Joined nuclear and membrane features: 1440\n",
      "Generating AnnData object\n",
      "12978 12978\n"
     ]
    },
    {
     "data": {
      "application/vnd.jupyter.widget-view+json": {
       "model_id": "2fd4df28a4b14996b5c529ff5d3babaa",
       "version_major": 2,
       "version_minor": 0
      },
      "text/plain": [
       "  0%|          | 0/12978 [00:00<?, ?it/s]"
      ]
     },
     "metadata": {},
     "output_type": "display_data"
    },
    {
     "name": "stdout",
     "output_type": "stream",
     "text": [
      "elapsed time: 37.3848s\n",
      "/storage/codex/preprocessed_data/210308_Bladder_TMA2_reg30/210308_Bladder_TMA2_reg30_v5.hdf5\n",
      "['cell_membrane_stats', 'cell_nuclei_stats', 'cells', 'meta']\n",
      "['Cell_IDs', 'cell_coordinates', 'channel_names', 'membrane_masks', 'nuclear_masks']\n",
      "Finished gathering obsm\n",
      "Loaded nuclear features: (3084, 720)\n",
      "Loaded membrane features: (3084, 720)\n",
      "Joined nuclear and membrane features: (3084, 1440)\n",
      "Joined nuclear and membrane features: 1440\n",
      "Generating AnnData object\n",
      "3084 3084\n"
     ]
    },
    {
     "data": {
      "application/vnd.jupyter.widget-view+json": {
       "model_id": "6fbf58b6a3f94704a02a8d58ea8027f4",
       "version_major": 2,
       "version_minor": 0
      },
      "text/plain": [
       "  0%|          | 0/3084 [00:00<?, ?it/s]"
      ]
     },
     "metadata": {},
     "output_type": "display_data"
    },
    {
     "name": "stdout",
     "output_type": "stream",
     "text": [
      "elapsed time: 8.8702s\n",
      "/storage/codex/preprocessed_data/210308_Bladder_TMA2_reg31/210308_Bladder_TMA2_reg31_v5.hdf5\n",
      "['cell_membrane_stats', 'cell_nuclei_stats', 'cells', 'meta']\n",
      "['Cell_IDs', 'cell_coordinates', 'channel_names', 'membrane_masks', 'nuclear_masks']\n",
      "Finished gathering obsm\n",
      "Loaded nuclear features: (9033, 720)\n",
      "Loaded membrane features: (9033, 720)\n",
      "Joined nuclear and membrane features: (9033, 1440)\n",
      "Joined nuclear and membrane features: 1440\n",
      "Generating AnnData object\n",
      "9033 9033\n"
     ]
    },
    {
     "data": {
      "application/vnd.jupyter.widget-view+json": {
       "model_id": "1a73e97eb0c04a84bfc630e550baf80e",
       "version_major": 2,
       "version_minor": 0
      },
      "text/plain": [
       "  0%|          | 0/9033 [00:00<?, ?it/s]"
      ]
     },
     "metadata": {},
     "output_type": "display_data"
    },
    {
     "name": "stdout",
     "output_type": "stream",
     "text": [
      "elapsed time: 27.6609s\n",
      "/storage/codex/preprocessed_data/210308_Bladder_TMA2_reg3/210308_Bladder_TMA2_reg3_v5.hdf5\n",
      "['cell_membrane_stats', 'cell_nuclei_stats', 'cells', 'meta']\n",
      "['Cell_IDs', 'cell_coordinates', 'channel_names', 'membrane_masks', 'nuclear_masks']\n",
      "Finished gathering obsm\n",
      "Loaded nuclear features: (7289, 720)\n",
      "Loaded membrane features: (7289, 720)\n",
      "Joined nuclear and membrane features: (7289, 1440)\n",
      "Joined nuclear and membrane features: 1440\n",
      "Generating AnnData object\n",
      "7289 7289\n"
     ]
    },
    {
     "data": {
      "application/vnd.jupyter.widget-view+json": {
       "model_id": "883122c0c9a84f00a27ac450ae06ff3d",
       "version_major": 2,
       "version_minor": 0
      },
      "text/plain": [
       "  0%|          | 0/7289 [00:00<?, ?it/s]"
      ]
     },
     "metadata": {},
     "output_type": "display_data"
    },
    {
     "name": "stdout",
     "output_type": "stream",
     "text": [
      "elapsed time: 21.2733s\n",
      "/storage/codex/preprocessed_data/210308_Bladder_TMA2_reg32/210308_Bladder_TMA2_reg32_v5.hdf5\n",
      "['cell_membrane_stats', 'cell_nuclei_stats', 'cells', 'meta']\n",
      "['Cell_IDs', 'cell_coordinates', 'channel_names', 'membrane_masks', 'nuclear_masks']\n",
      "Finished gathering obsm\n",
      "Loaded nuclear features: (11666, 720)\n",
      "Loaded membrane features: (11666, 720)\n",
      "Joined nuclear and membrane features: (11666, 1440)\n",
      "Joined nuclear and membrane features: 1440\n",
      "Generating AnnData object\n",
      "11666 11666\n"
     ]
    },
    {
     "data": {
      "application/vnd.jupyter.widget-view+json": {
       "model_id": "95229ef9db7a4bf4841bdb7c967bca4a",
       "version_major": 2,
       "version_minor": 0
      },
      "text/plain": [
       "  0%|          | 0/11666 [00:00<?, ?it/s]"
      ]
     },
     "metadata": {},
     "output_type": "display_data"
    },
    {
     "name": "stdout",
     "output_type": "stream",
     "text": [
      "elapsed time: 33.7809s\n",
      "/storage/codex/preprocessed_data/210308_Bladder_TMA2_reg33/210308_Bladder_TMA2_reg33_v5.hdf5\n",
      "['cell_membrane_stats', 'cell_nuclei_stats', 'cells', 'meta']\n",
      "['Cell_IDs', 'cell_coordinates', 'channel_names', 'membrane_masks', 'nuclear_masks']\n",
      "Finished gathering obsm\n",
      "Loaded nuclear features: (5628, 720)\n",
      "Loaded membrane features: (5628, 720)\n",
      "Joined nuclear and membrane features: (5628, 1440)\n",
      "Joined nuclear and membrane features: 1440\n",
      "Generating AnnData object\n",
      "5628 5628\n"
     ]
    },
    {
     "data": {
      "application/vnd.jupyter.widget-view+json": {
       "model_id": "ecdf6094d5784cccbe0bfd0b6d19acec",
       "version_major": 2,
       "version_minor": 0
      },
      "text/plain": [
       "  0%|          | 0/5628 [00:00<?, ?it/s]"
      ]
     },
     "metadata": {},
     "output_type": "display_data"
    },
    {
     "name": "stdout",
     "output_type": "stream",
     "text": [
      "elapsed time: 17.1973s\n",
      "/storage/codex/preprocessed_data/210308_Bladder_TMA2_reg35/210308_Bladder_TMA2_reg35_v5.hdf5\n",
      "['cell_membrane_stats', 'cell_nuclei_stats', 'cells', 'meta']\n",
      "['Cell_IDs', 'cell_coordinates', 'channel_names', 'membrane_masks', 'nuclear_masks']\n",
      "Finished gathering obsm\n",
      "Loaded nuclear features: (8140, 720)\n",
      "Loaded membrane features: (8140, 720)\n",
      "Joined nuclear and membrane features: (8140, 1440)\n",
      "Joined nuclear and membrane features: 1440\n",
      "Generating AnnData object\n",
      "8140 8140\n"
     ]
    },
    {
     "data": {
      "application/vnd.jupyter.widget-view+json": {
       "model_id": "62cd2bee0f5d4a3bab20c814339c5a62",
       "version_major": 2,
       "version_minor": 0
      },
      "text/plain": [
       "  0%|          | 0/8140 [00:00<?, ?it/s]"
      ]
     },
     "metadata": {},
     "output_type": "display_data"
    },
    {
     "name": "stdout",
     "output_type": "stream",
     "text": [
      "elapsed time: 23.4466s\n",
      "/storage/codex/preprocessed_data/210308_Bladder_TMA2_reg36/210308_Bladder_TMA2_reg36_v5.hdf5\n",
      "['cell_membrane_stats', 'cell_nuclei_stats', 'cells', 'meta']\n",
      "['Cell_IDs', 'cell_coordinates', 'channel_names', 'membrane_masks', 'nuclear_masks']\n",
      "Finished gathering obsm\n",
      "Loaded nuclear features: (8146, 720)\n",
      "Loaded membrane features: (8146, 720)\n",
      "Joined nuclear and membrane features: (8146, 1440)\n",
      "Joined nuclear and membrane features: 1440\n",
      "Generating AnnData object\n",
      "8146 8146\n"
     ]
    },
    {
     "data": {
      "application/vnd.jupyter.widget-view+json": {
       "model_id": "45fe406e63444cf2a858b4a3634ed90a",
       "version_major": 2,
       "version_minor": 0
      },
      "text/plain": [
       "  0%|          | 0/8146 [00:00<?, ?it/s]"
      ]
     },
     "metadata": {},
     "output_type": "display_data"
    },
    {
     "name": "stdout",
     "output_type": "stream",
     "text": [
      "elapsed time: 23.2307s\n",
      "/storage/codex/preprocessed_data/210308_Bladder_TMA2_reg4/210308_Bladder_TMA2_reg4_v5.hdf5\n",
      "['cell_membrane_stats', 'cell_nuclei_stats', 'cells', 'meta']\n",
      "['Cell_IDs', 'cell_coordinates', 'channel_names', 'membrane_masks', 'nuclear_masks']\n",
      "Finished gathering obsm\n",
      "Loaded nuclear features: (6098, 720)\n",
      "Loaded membrane features: (6098, 720)\n",
      "Joined nuclear and membrane features: (6098, 1440)\n",
      "Joined nuclear and membrane features: 1440\n",
      "Generating AnnData object\n",
      "6098 6098\n"
     ]
    },
    {
     "data": {
      "application/vnd.jupyter.widget-view+json": {
       "model_id": "c899915d235743a48b7c5631197cddc3",
       "version_major": 2,
       "version_minor": 0
      },
      "text/plain": [
       "  0%|          | 0/6098 [00:00<?, ?it/s]"
      ]
     },
     "metadata": {},
     "output_type": "display_data"
    },
    {
     "name": "stdout",
     "output_type": "stream",
     "text": [
      "elapsed time: 17.3529s\n",
      "/storage/codex/preprocessed_data/210308_Bladder_TMA2_reg5/210308_Bladder_TMA2_reg5_v5.hdf5\n",
      "['cell_membrane_stats', 'cell_nuclei_stats', 'cells', 'meta']\n",
      "['Cell_IDs', 'cell_coordinates', 'channel_names', 'membrane_masks', 'nuclear_masks']\n",
      "Finished gathering obsm\n",
      "Loaded nuclear features: (5019, 720)\n",
      "Loaded membrane features: (5019, 720)\n",
      "Joined nuclear and membrane features: (5019, 1440)\n",
      "Joined nuclear and membrane features: 1440\n",
      "Generating AnnData object\n",
      "5019 5019\n"
     ]
    },
    {
     "data": {
      "application/vnd.jupyter.widget-view+json": {
       "model_id": "7e2a8462edd0496fae83818d2d5628df",
       "version_major": 2,
       "version_minor": 0
      },
      "text/plain": [
       "  0%|          | 0/5019 [00:00<?, ?it/s]"
      ]
     },
     "metadata": {},
     "output_type": "display_data"
    },
    {
     "name": "stdout",
     "output_type": "stream",
     "text": [
      "elapsed time: 15.0247s\n",
      "/storage/codex/preprocessed_data/210308_Bladder_TMA2_reg6/210308_Bladder_TMA2_reg6_v5.hdf5\n",
      "['cell_membrane_stats', 'cell_nuclei_stats', 'cells', 'meta']\n",
      "['Cell_IDs', 'cell_coordinates', 'channel_names', 'membrane_masks', 'nuclear_masks']\n",
      "Finished gathering obsm\n",
      "Loaded nuclear features: (4883, 720)\n",
      "Loaded membrane features: (4883, 720)\n",
      "Joined nuclear and membrane features: (4883, 1440)\n",
      "Joined nuclear and membrane features: 1440\n",
      "Generating AnnData object\n",
      "4883 4883\n"
     ]
    },
    {
     "data": {
      "application/vnd.jupyter.widget-view+json": {
       "model_id": "1ca8545ad61048a6acdbddbb9962e029",
       "version_major": 2,
       "version_minor": 0
      },
      "text/plain": [
       "  0%|          | 0/4883 [00:00<?, ?it/s]"
      ]
     },
     "metadata": {},
     "output_type": "display_data"
    },
    {
     "name": "stdout",
     "output_type": "stream",
     "text": [
      "elapsed time: 14.4690s\n",
      "/storage/codex/preprocessed_data/210308_Bladder_TMA2_reg7/210308_Bladder_TMA2_reg7_v5.hdf5\n",
      "['cell_membrane_stats', 'cell_nuclei_stats', 'cells', 'meta']\n",
      "['Cell_IDs', 'cell_coordinates', 'channel_names', 'membrane_masks', 'nuclear_masks']\n",
      "Finished gathering obsm\n",
      "Loaded nuclear features: (8992, 720)\n",
      "Loaded membrane features: (8992, 720)\n",
      "Joined nuclear and membrane features: (8992, 1440)\n",
      "Joined nuclear and membrane features: 1440\n",
      "Generating AnnData object\n",
      "8992 8992\n"
     ]
    },
    {
     "data": {
      "application/vnd.jupyter.widget-view+json": {
       "model_id": "84300056500741cb9d3e926430042f3a",
       "version_major": 2,
       "version_minor": 0
      },
      "text/plain": [
       "  0%|          | 0/8992 [00:00<?, ?it/s]"
      ]
     },
     "metadata": {},
     "output_type": "display_data"
    },
    {
     "name": "stdout",
     "output_type": "stream",
     "text": [
      "elapsed time: 25.4667s\n",
      "/storage/codex/preprocessed_data/210308_Bladder_TMA2_reg8/210308_Bladder_TMA2_reg8_v5.hdf5\n",
      "['cell_membrane_stats', 'cell_nuclei_stats', 'cells', 'meta']\n",
      "['Cell_IDs', 'cell_coordinates', 'channel_names', 'membrane_masks', 'nuclear_masks']\n",
      "Finished gathering obsm\n",
      "Loaded nuclear features: (4303, 720)\n",
      "Loaded membrane features: (4303, 720)\n",
      "Joined nuclear and membrane features: (4303, 1440)\n",
      "Joined nuclear and membrane features: 1440\n",
      "Generating AnnData object\n",
      "4303 4303\n"
     ]
    },
    {
     "data": {
      "application/vnd.jupyter.widget-view+json": {
       "model_id": "b441c50944464822b6a9f132ad400796",
       "version_major": 2,
       "version_minor": 0
      },
      "text/plain": [
       "  0%|          | 0/4303 [00:00<?, ?it/s]"
      ]
     },
     "metadata": {},
     "output_type": "display_data"
    },
    {
     "name": "stdout",
     "output_type": "stream",
     "text": [
      "elapsed time: 12.4939s\n",
      "/storage/codex/preprocessed_data/210308_Bladder_TMA2_reg9/210308_Bladder_TMA2_reg9_v5.hdf5\n",
      "['cell_membrane_stats', 'cell_nuclei_stats', 'cells', 'meta']\n",
      "['Cell_IDs', 'cell_coordinates', 'channel_names', 'membrane_masks', 'nuclear_masks']\n",
      "Finished gathering obsm\n",
      "Loaded nuclear features: (7262, 720)\n",
      "Loaded membrane features: (7262, 720)\n",
      "Joined nuclear and membrane features: (7262, 1440)\n",
      "Joined nuclear and membrane features: 1440\n",
      "Generating AnnData object\n",
      "7262 7262\n"
     ]
    },
    {
     "data": {
      "application/vnd.jupyter.widget-view+json": {
       "model_id": "57e19290525f47bc86fd7dfdeb613652",
       "version_major": 2,
       "version_minor": 0
      },
      "text/plain": [
       "  0%|          | 0/7262 [00:00<?, ?it/s]"
      ]
     },
     "metadata": {},
     "output_type": "display_data"
    },
    {
     "name": "stdout",
     "output_type": "stream",
     "text": [
      "elapsed time: 20.9451s\n",
      "/storage/codex/preprocessed_data/210311_Bladder_TMA3_reg10/210311_Bladder_TMA3_reg10_v5.hdf5\n",
      "['cell_membrane_stats', 'cell_nuclei_stats', 'cells', 'meta']\n",
      "['Cell_IDs', 'cell_coordinates', 'channel_names', 'membrane_masks', 'nuclear_masks']\n",
      "Finished gathering obsm\n",
      "Loaded nuclear features: (6058, 720)\n",
      "Loaded membrane features: (6058, 720)\n",
      "Joined nuclear and membrane features: (6058, 1440)\n",
      "Joined nuclear and membrane features: 1440\n",
      "Generating AnnData object\n",
      "6058 6058\n"
     ]
    },
    {
     "data": {
      "application/vnd.jupyter.widget-view+json": {
       "model_id": "521c9f8bbcae44f1a3fc84762389e2a1",
       "version_major": 2,
       "version_minor": 0
      },
      "text/plain": [
       "  0%|          | 0/6058 [00:00<?, ?it/s]"
      ]
     },
     "metadata": {},
     "output_type": "display_data"
    },
    {
     "name": "stdout",
     "output_type": "stream",
     "text": [
      "elapsed time: 18.1481s\n",
      "/storage/codex/preprocessed_data/210311_Bladder_TMA3_reg11/210311_Bladder_TMA3_reg11_v5.hdf5\n",
      "['cell_membrane_stats', 'cell_nuclei_stats', 'cells', 'meta']\n",
      "['Cell_IDs', 'cell_coordinates', 'channel_names', 'membrane_masks', 'nuclear_masks']\n",
      "Finished gathering obsm\n",
      "Loaded nuclear features: (7555, 720)\n",
      "Loaded membrane features: (7555, 720)\n",
      "Joined nuclear and membrane features: (7555, 1440)\n",
      "Joined nuclear and membrane features: 1440\n",
      "Generating AnnData object\n",
      "7555 7555\n"
     ]
    },
    {
     "data": {
      "application/vnd.jupyter.widget-view+json": {
       "model_id": "3b09a13abcd04732960bce54caf7271f",
       "version_major": 2,
       "version_minor": 0
      },
      "text/plain": [
       "  0%|          | 0/7555 [00:00<?, ?it/s]"
      ]
     },
     "metadata": {},
     "output_type": "display_data"
    },
    {
     "name": "stdout",
     "output_type": "stream",
     "text": [
      "elapsed time: 22.3009s\n",
      "/storage/codex/preprocessed_data/210311_Bladder_TMA3_reg12/210311_Bladder_TMA3_reg12_v5.hdf5\n",
      "['cell_membrane_stats', 'cell_nuclei_stats', 'cells', 'meta']\n",
      "['Cell_IDs', 'cell_coordinates', 'channel_names', 'membrane_masks', 'nuclear_masks']\n",
      "Finished gathering obsm\n",
      "Loaded nuclear features: (8587, 720)\n",
      "Loaded membrane features: (8587, 720)\n",
      "Joined nuclear and membrane features: (8587, 1440)\n",
      "Joined nuclear and membrane features: 1440\n",
      "Generating AnnData object\n",
      "8587 8587\n"
     ]
    },
    {
     "data": {
      "application/vnd.jupyter.widget-view+json": {
       "model_id": "ee8d32e26aaf46a8b9fd2d25feb212cb",
       "version_major": 2,
       "version_minor": 0
      },
      "text/plain": [
       "  0%|          | 0/8587 [00:00<?, ?it/s]"
      ]
     },
     "metadata": {},
     "output_type": "display_data"
    },
    {
     "name": "stdout",
     "output_type": "stream",
     "text": [
      "elapsed time: 24.7758s\n",
      "/storage/codex/preprocessed_data/210311_Bladder_TMA3_reg13/210311_Bladder_TMA3_reg13_v5.hdf5\n",
      "['cell_membrane_stats', 'cell_nuclei_stats', 'cells', 'meta']\n",
      "['Cell_IDs', 'cell_coordinates', 'channel_names', 'membrane_masks', 'nuclear_masks']\n",
      "Finished gathering obsm\n",
      "Loaded nuclear features: (8735, 720)\n",
      "Loaded membrane features: (8735, 720)\n",
      "Joined nuclear and membrane features: (8735, 1440)\n",
      "Joined nuclear and membrane features: 1440\n",
      "Generating AnnData object\n",
      "8735 8735\n"
     ]
    },
    {
     "data": {
      "application/vnd.jupyter.widget-view+json": {
       "model_id": "3e0a70ec4f604c7b99571f7c39a3d7d4",
       "version_major": 2,
       "version_minor": 0
      },
      "text/plain": [
       "  0%|          | 0/8735 [00:00<?, ?it/s]"
      ]
     },
     "metadata": {},
     "output_type": "display_data"
    },
    {
     "name": "stdout",
     "output_type": "stream",
     "text": [
      "elapsed time: 25.5490s\n",
      "/storage/codex/preprocessed_data/210311_Bladder_TMA3_reg16/210311_Bladder_TMA3_reg16_v5.hdf5\n",
      "['cell_membrane_stats', 'cell_nuclei_stats', 'cells', 'meta']\n",
      "['Cell_IDs', 'cell_coordinates', 'channel_names', 'membrane_masks', 'nuclear_masks']\n",
      "Finished gathering obsm\n",
      "Loaded nuclear features: (8689, 720)\n",
      "Loaded membrane features: (8689, 720)\n",
      "Joined nuclear and membrane features: (8689, 1440)\n",
      "Joined nuclear and membrane features: 1440\n",
      "Generating AnnData object\n",
      "8689 8689\n"
     ]
    },
    {
     "data": {
      "application/vnd.jupyter.widget-view+json": {
       "model_id": "9aae1c165c0e4d7a885daf4b7803acab",
       "version_major": 2,
       "version_minor": 0
      },
      "text/plain": [
       "  0%|          | 0/8689 [00:00<?, ?it/s]"
      ]
     },
     "metadata": {},
     "output_type": "display_data"
    },
    {
     "name": "stdout",
     "output_type": "stream",
     "text": [
      "elapsed time: 26.0024s\n",
      "/storage/codex/preprocessed_data/210311_Bladder_TMA3_reg17/210311_Bladder_TMA3_reg17_v5.hdf5\n",
      "['cell_membrane_stats', 'cell_nuclei_stats', 'cells', 'meta']\n",
      "['Cell_IDs', 'cell_coordinates', 'channel_names', 'membrane_masks', 'nuclear_masks']\n",
      "Finished gathering obsm\n",
      "Loaded nuclear features: (9723, 720)\n",
      "Loaded membrane features: (9723, 720)\n",
      "Joined nuclear and membrane features: (9723, 1440)\n",
      "Joined nuclear and membrane features: 1440\n",
      "Generating AnnData object\n",
      "9723 9723\n"
     ]
    },
    {
     "data": {
      "application/vnd.jupyter.widget-view+json": {
       "model_id": "dfa3c533eec04e448040eaf4ea829a2a",
       "version_major": 2,
       "version_minor": 0
      },
      "text/plain": [
       "  0%|          | 0/9723 [00:00<?, ?it/s]"
      ]
     },
     "metadata": {},
     "output_type": "display_data"
    },
    {
     "name": "stdout",
     "output_type": "stream",
     "text": [
      "elapsed time: 28.9326s\n",
      "/storage/codex/preprocessed_data/210311_Bladder_TMA3_reg18/210311_Bladder_TMA3_reg18_v5.hdf5\n",
      "['cell_membrane_stats', 'cell_nuclei_stats', 'cells', 'meta']\n",
      "['Cell_IDs', 'cell_coordinates', 'channel_names', 'membrane_masks', 'nuclear_masks']\n",
      "Finished gathering obsm\n",
      "Loaded nuclear features: (11073, 720)\n",
      "Loaded membrane features: (11073, 720)\n",
      "Joined nuclear and membrane features: (11073, 1440)\n",
      "Joined nuclear and membrane features: 1440\n",
      "Generating AnnData object\n",
      "11073 11073\n"
     ]
    },
    {
     "data": {
      "application/vnd.jupyter.widget-view+json": {
       "model_id": "1f832f6cdd6f41f6b9b1fe30ea776058",
       "version_major": 2,
       "version_minor": 0
      },
      "text/plain": [
       "  0%|          | 0/11073 [00:00<?, ?it/s]"
      ]
     },
     "metadata": {},
     "output_type": "display_data"
    },
    {
     "name": "stdout",
     "output_type": "stream",
     "text": [
      "elapsed time: 32.8456s\n",
      "/storage/codex/preprocessed_data/210311_Bladder_TMA3_reg22/210311_Bladder_TMA3_reg22_v5.hdf5\n",
      "['cell_membrane_stats', 'cell_nuclei_stats', 'cells', 'meta']\n",
      "['Cell_IDs', 'cell_coordinates', 'channel_names', 'membrane_masks', 'nuclear_masks']\n",
      "Finished gathering obsm\n",
      "Loaded nuclear features: (7128, 720)\n",
      "Loaded membrane features: (7128, 720)\n",
      "Joined nuclear and membrane features: (7128, 1440)\n",
      "Joined nuclear and membrane features: 1440\n",
      "Generating AnnData object\n",
      "7128 7128\n"
     ]
    },
    {
     "data": {
      "application/vnd.jupyter.widget-view+json": {
       "model_id": "6ed8e3d21d7c46b09fa5042cb9a18b36",
       "version_major": 2,
       "version_minor": 0
      },
      "text/plain": [
       "  0%|          | 0/7128 [00:00<?, ?it/s]"
      ]
     },
     "metadata": {},
     "output_type": "display_data"
    },
    {
     "name": "stdout",
     "output_type": "stream",
     "text": [
      "elapsed time: 20.0573s\n",
      "/storage/codex/preprocessed_data/210311_Bladder_TMA3_reg24/210311_Bladder_TMA3_reg24_v5.hdf5\n",
      "['cell_membrane_stats', 'cell_nuclei_stats', 'cells', 'meta']\n",
      "['Cell_IDs', 'cell_coordinates', 'channel_names', 'membrane_masks', 'nuclear_masks']\n",
      "Finished gathering obsm\n",
      "Loaded nuclear features: (8147, 720)\n",
      "Loaded membrane features: (8147, 720)\n",
      "Joined nuclear and membrane features: (8147, 1440)\n",
      "Joined nuclear and membrane features: 1440\n",
      "Generating AnnData object\n",
      "8147 8147\n"
     ]
    },
    {
     "data": {
      "application/vnd.jupyter.widget-view+json": {
       "model_id": "90314a94639747999eab13d328771510",
       "version_major": 2,
       "version_minor": 0
      },
      "text/plain": [
       "  0%|          | 0/8147 [00:00<?, ?it/s]"
      ]
     },
     "metadata": {},
     "output_type": "display_data"
    },
    {
     "name": "stdout",
     "output_type": "stream",
     "text": [
      "elapsed time: 23.7399s\n",
      "/storage/codex/preprocessed_data/210311_Bladder_TMA3_reg26/210311_Bladder_TMA3_reg26_v5.hdf5\n",
      "['cell_membrane_stats', 'cell_nuclei_stats', 'cells', 'meta']\n",
      "['Cell_IDs', 'cell_coordinates', 'channel_names', 'membrane_masks', 'nuclear_masks']\n",
      "Finished gathering obsm\n",
      "Loaded nuclear features: (13429, 720)\n",
      "Loaded membrane features: (13429, 720)\n",
      "Joined nuclear and membrane features: (13429, 1440)\n",
      "Joined nuclear and membrane features: 1440\n",
      "Generating AnnData object\n",
      "13429 13429\n"
     ]
    },
    {
     "data": {
      "application/vnd.jupyter.widget-view+json": {
       "model_id": "fb20a72c5da94ad39e9e0992bb53c5f2",
       "version_major": 2,
       "version_minor": 0
      },
      "text/plain": [
       "  0%|          | 0/13429 [00:00<?, ?it/s]"
      ]
     },
     "metadata": {},
     "output_type": "display_data"
    },
    {
     "name": "stdout",
     "output_type": "stream",
     "text": [
      "elapsed time: 38.5085s\n",
      "/storage/codex/preprocessed_data/210311_Bladder_TMA3_reg27/210311_Bladder_TMA3_reg27_v5.hdf5\n",
      "['cell_membrane_stats', 'cell_nuclei_stats', 'cells', 'meta']\n",
      "['Cell_IDs', 'cell_coordinates', 'channel_names', 'membrane_masks', 'nuclear_masks']\n",
      "Finished gathering obsm\n",
      "Loaded nuclear features: (6909, 720)\n",
      "Loaded membrane features: (6909, 720)\n",
      "Joined nuclear and membrane features: (6909, 1440)\n",
      "Joined nuclear and membrane features: 1440\n",
      "Generating AnnData object\n",
      "6909 6909\n"
     ]
    },
    {
     "data": {
      "application/vnd.jupyter.widget-view+json": {
       "model_id": "bb6472f61cf9420f9b1ca11522b88ea1",
       "version_major": 2,
       "version_minor": 0
      },
      "text/plain": [
       "  0%|          | 0/6909 [00:00<?, ?it/s]"
      ]
     },
     "metadata": {},
     "output_type": "display_data"
    },
    {
     "name": "stdout",
     "output_type": "stream",
     "text": [
      "elapsed time: 20.3563s\n",
      "/storage/codex/preprocessed_data/210311_Bladder_TMA3_reg28/210311_Bladder_TMA3_reg28_v5.hdf5\n",
      "['cell_membrane_stats', 'cell_nuclei_stats', 'cells', 'meta']\n",
      "['Cell_IDs', 'cell_coordinates', 'channel_names', 'membrane_masks', 'nuclear_masks']\n",
      "Finished gathering obsm\n",
      "Loaded nuclear features: (13463, 720)\n",
      "Loaded membrane features: (13463, 720)\n",
      "Joined nuclear and membrane features: (13463, 1440)\n",
      "Joined nuclear and membrane features: 1440\n",
      "Generating AnnData object\n",
      "13463 13463\n"
     ]
    },
    {
     "data": {
      "application/vnd.jupyter.widget-view+json": {
       "model_id": "b83f34833d5e4e8487d1e9dc944e42e8",
       "version_major": 2,
       "version_minor": 0
      },
      "text/plain": [
       "  0%|          | 0/13463 [00:00<?, ?it/s]"
      ]
     },
     "metadata": {},
     "output_type": "display_data"
    },
    {
     "name": "stdout",
     "output_type": "stream",
     "text": [
      "elapsed time: 39.8244s\n",
      "/storage/codex/preprocessed_data/210311_Bladder_TMA3_reg29/210311_Bladder_TMA3_reg29_v5.hdf5\n",
      "['cell_membrane_stats', 'cell_nuclei_stats', 'cells', 'meta']\n",
      "['Cell_IDs', 'cell_coordinates', 'channel_names', 'membrane_masks', 'nuclear_masks']\n",
      "Finished gathering obsm\n",
      "Loaded nuclear features: (9140, 720)\n",
      "Loaded membrane features: (9140, 720)\n",
      "Joined nuclear and membrane features: (9140, 1440)\n",
      "Joined nuclear and membrane features: 1440\n",
      "Generating AnnData object\n",
      "9140 9140\n"
     ]
    },
    {
     "data": {
      "application/vnd.jupyter.widget-view+json": {
       "model_id": "a48ade51feb54b828faf831ade401788",
       "version_major": 2,
       "version_minor": 0
      },
      "text/plain": [
       "  0%|          | 0/9140 [00:00<?, ?it/s]"
      ]
     },
     "metadata": {},
     "output_type": "display_data"
    },
    {
     "name": "stdout",
     "output_type": "stream",
     "text": [
      "elapsed time: 27.0689s\n",
      "/storage/codex/preprocessed_data/210311_Bladder_TMA3_reg30/210311_Bladder_TMA3_reg30_v5.hdf5\n",
      "['cell_membrane_stats', 'cell_nuclei_stats', 'cells', 'meta']\n",
      "['Cell_IDs', 'cell_coordinates', 'channel_names', 'membrane_masks', 'nuclear_masks']\n",
      "Finished gathering obsm\n",
      "Loaded nuclear features: (8633, 720)\n",
      "Loaded membrane features: (8633, 720)\n",
      "Joined nuclear and membrane features: (8633, 1440)\n",
      "Joined nuclear and membrane features: 1440\n",
      "Generating AnnData object\n",
      "8633 8633\n"
     ]
    },
    {
     "data": {
      "application/vnd.jupyter.widget-view+json": {
       "model_id": "f7615018d5d347449052b6d0852385c4",
       "version_major": 2,
       "version_minor": 0
      },
      "text/plain": [
       "  0%|          | 0/8633 [00:00<?, ?it/s]"
      ]
     },
     "metadata": {},
     "output_type": "display_data"
    },
    {
     "name": "stdout",
     "output_type": "stream",
     "text": [
      "elapsed time: 25.2442s\n",
      "/storage/codex/preprocessed_data/210311_Bladder_TMA3_reg31/210311_Bladder_TMA3_reg31_v5.hdf5\n",
      "['cell_membrane_stats', 'cell_nuclei_stats', 'cells', 'meta']\n",
      "['Cell_IDs', 'cell_coordinates', 'channel_names', 'membrane_masks', 'nuclear_masks']\n",
      "Finished gathering obsm\n",
      "Loaded nuclear features: (5435, 720)\n",
      "Loaded membrane features: (5435, 720)\n",
      "Joined nuclear and membrane features: (5435, 1440)\n",
      "Joined nuclear and membrane features: 1440\n",
      "Generating AnnData object\n",
      "5435 5435\n"
     ]
    },
    {
     "data": {
      "application/vnd.jupyter.widget-view+json": {
       "model_id": "c9ced3c79ec94cbcac09ad63446348e7",
       "version_major": 2,
       "version_minor": 0
      },
      "text/plain": [
       "  0%|          | 0/5435 [00:00<?, ?it/s]"
      ]
     },
     "metadata": {},
     "output_type": "display_data"
    },
    {
     "name": "stdout",
     "output_type": "stream",
     "text": [
      "elapsed time: 16.2762s\n",
      "/storage/codex/preprocessed_data/210311_Bladder_TMA3_reg34/210311_Bladder_TMA3_reg34_v5.hdf5\n",
      "['cell_membrane_stats', 'cell_nuclei_stats', 'cells', 'meta']\n",
      "['Cell_IDs', 'cell_coordinates', 'channel_names', 'membrane_masks', 'nuclear_masks']\n",
      "Finished gathering obsm\n",
      "Loaded nuclear features: (9283, 720)\n",
      "Loaded membrane features: (9283, 720)\n",
      "Joined nuclear and membrane features: (9283, 1440)\n",
      "Joined nuclear and membrane features: 1440\n",
      "Generating AnnData object\n",
      "9283 9283\n"
     ]
    },
    {
     "data": {
      "application/vnd.jupyter.widget-view+json": {
       "model_id": "3b539047692145be947b28c977d90c84",
       "version_major": 2,
       "version_minor": 0
      },
      "text/plain": [
       "  0%|          | 0/9283 [00:00<?, ?it/s]"
      ]
     },
     "metadata": {},
     "output_type": "display_data"
    },
    {
     "name": "stdout",
     "output_type": "stream",
     "text": [
      "elapsed time: 26.9811s\n",
      "/storage/codex/preprocessed_data/210311_Bladder_TMA3_reg35/210311_Bladder_TMA3_reg35_v5.hdf5\n",
      "['cell_membrane_stats', 'cell_nuclei_stats', 'cells', 'meta']\n",
      "['Cell_IDs', 'cell_coordinates', 'channel_names', 'membrane_masks', 'nuclear_masks']\n",
      "Finished gathering obsm\n",
      "Loaded nuclear features: (9944, 720)\n",
      "Loaded membrane features: (9944, 720)\n",
      "Joined nuclear and membrane features: (9944, 1440)\n",
      "Joined nuclear and membrane features: 1440\n",
      "Generating AnnData object\n",
      "9944 9944\n"
     ]
    },
    {
     "data": {
      "application/vnd.jupyter.widget-view+json": {
       "model_id": "3b9b15052f02495da8970b8a650b32a5",
       "version_major": 2,
       "version_minor": 0
      },
      "text/plain": [
       "  0%|          | 0/9944 [00:00<?, ?it/s]"
      ]
     },
     "metadata": {},
     "output_type": "display_data"
    },
    {
     "name": "stdout",
     "output_type": "stream",
     "text": [
      "elapsed time: 29.0816s\n",
      "/storage/codex/preprocessed_data/210311_Bladder_TMA3_reg4/210311_Bladder_TMA3_reg4_v5.hdf5\n",
      "['cell_membrane_stats', 'cell_nuclei_stats', 'cells', 'meta']\n",
      "['Cell_IDs', 'cell_coordinates', 'channel_names', 'membrane_masks', 'nuclear_masks']\n",
      "Finished gathering obsm\n",
      "Loaded nuclear features: (8054, 720)\n",
      "Loaded membrane features: (8054, 720)\n",
      "Joined nuclear and membrane features: (8054, 1440)\n",
      "Joined nuclear and membrane features: 1440\n",
      "Generating AnnData object\n",
      "8054 8054\n"
     ]
    },
    {
     "data": {
      "application/vnd.jupyter.widget-view+json": {
       "model_id": "42ed0e6ec1344415a970c6caff8c27c8",
       "version_major": 2,
       "version_minor": 0
      },
      "text/plain": [
       "  0%|          | 0/8054 [00:00<?, ?it/s]"
      ]
     },
     "metadata": {},
     "output_type": "display_data"
    },
    {
     "name": "stdout",
     "output_type": "stream",
     "text": [
      "elapsed time: 23.9711s\n",
      "/storage/codex/preprocessed_data/210311_Bladder_TMA3_reg5/210311_Bladder_TMA3_reg5_v5.hdf5\n",
      "['cell_membrane_stats', 'cell_nuclei_stats', 'cells', 'meta']\n",
      "['Cell_IDs', 'cell_coordinates', 'channel_names', 'membrane_masks', 'nuclear_masks']\n",
      "Finished gathering obsm\n",
      "Loaded nuclear features: (1024, 720)\n",
      "Loaded membrane features: (1024, 720)\n",
      "Joined nuclear and membrane features: (1024, 1440)\n",
      "Joined nuclear and membrane features: 1440\n",
      "Generating AnnData object\n",
      "1024 1024\n"
     ]
    },
    {
     "data": {
      "application/vnd.jupyter.widget-view+json": {
       "model_id": "8acbb74a680e42c3b3bcb85a62a97a7f",
       "version_major": 2,
       "version_minor": 0
      },
      "text/plain": [
       "  0%|          | 0/1024 [00:00<?, ?it/s]"
      ]
     },
     "metadata": {},
     "output_type": "display_data"
    },
    {
     "name": "stdout",
     "output_type": "stream",
     "text": [
      "elapsed time: 2.9473s\n",
      "/storage/codex/preprocessed_data/210311_Bladder_TMA3_reg6/210311_Bladder_TMA3_reg6_v5.hdf5\n",
      "['cell_membrane_stats', 'cell_nuclei_stats', 'cells', 'meta']\n",
      "['Cell_IDs', 'cell_coordinates', 'channel_names', 'membrane_masks', 'nuclear_masks']\n",
      "Finished gathering obsm\n",
      "Loaded nuclear features: (6346, 720)\n",
      "Loaded membrane features: (6346, 720)\n",
      "Joined nuclear and membrane features: (6346, 1440)\n",
      "Joined nuclear and membrane features: 1440\n",
      "Generating AnnData object\n",
      "6346 6346\n"
     ]
    },
    {
     "data": {
      "application/vnd.jupyter.widget-view+json": {
       "model_id": "0e4b8e00e4504472b624c736f844b7be",
       "version_major": 2,
       "version_minor": 0
      },
      "text/plain": [
       "  0%|          | 0/6346 [00:00<?, ?it/s]"
      ]
     },
     "metadata": {},
     "output_type": "display_data"
    },
    {
     "name": "stdout",
     "output_type": "stream",
     "text": [
      "elapsed time: 19.0105s\n",
      "/storage/codex/preprocessed_data/210311_Bladder_TMA3_reg9/210311_Bladder_TMA3_reg9_v5.hdf5\n",
      "['cell_membrane_stats', 'cell_nuclei_stats', 'cells', 'meta']\n",
      "['Cell_IDs', 'cell_coordinates', 'channel_names', 'membrane_masks', 'nuclear_masks']\n",
      "Finished gathering obsm\n",
      "Loaded nuclear features: (3564, 720)\n",
      "Loaded membrane features: (3564, 720)\n",
      "Joined nuclear and membrane features: (3564, 1440)\n",
      "Joined nuclear and membrane features: 1440\n",
      "Generating AnnData object\n",
      "3564 3564\n"
     ]
    },
    {
     "data": {
      "application/vnd.jupyter.widget-view+json": {
       "model_id": "72a1982efacb4081a5f5f583a69a17c0",
       "version_major": 2,
       "version_minor": 0
      },
      "text/plain": [
       "  0%|          | 0/3564 [00:00<?, ?it/s]"
      ]
     },
     "metadata": {},
     "output_type": "display_data"
    },
    {
     "name": "stdout",
     "output_type": "stream",
     "text": [
      "elapsed time: 10.5663s\n",
      "['210226_Bladder_TMA1_reg10_v5', '210226_Bladder_TMA1_reg1_v5', '210226_Bladder_TMA1_reg12_v5', '210226_Bladder_TMA1_reg13_v5', '210226_Bladder_TMA1_reg14_v5', '210226_Bladder_TMA1_reg15_v5', '210226_Bladder_TMA1_reg18_v5', '210226_Bladder_TMA1_reg19_v5', '210226_Bladder_TMA1_reg20_v5', '210226_Bladder_TMA1_reg25_v5', '210226_Bladder_TMA1_reg26_v5', '210226_Bladder_TMA1_reg28_v5', '210226_Bladder_TMA1_reg29_v5', '210226_Bladder_TMA1_reg30_v5', '210226_Bladder_TMA1_reg31_v5', '210226_Bladder_TMA1_reg32_v5', '210226_Bladder_TMA1_reg33_v5', '210226_Bladder_TMA1_reg34_v5', '210226_Bladder_TMA1_reg35_v5', '210226_Bladder_TMA1_reg36_v5', '210226_Bladder_TMA1_reg37_v5', '210226_Bladder_TMA1_reg5_v5', '210226_Bladder_TMA1_reg7_v5', '210226_Bladder_TMA1_reg8_v5', '210226_Bladder_TMA1_reg9_v5', '210308_Bladder_TMA2_reg11_v5', '210308_Bladder_TMA2_reg1_v5', '210308_Bladder_TMA2_reg12_v5', '210308_Bladder_TMA2_reg13_v5', '210308_Bladder_TMA2_reg14_v5', '210308_Bladder_TMA2_reg15_v5', '210308_Bladder_TMA2_reg16_v5', '210308_Bladder_TMA2_reg17_v5', '210308_Bladder_TMA2_reg18_v5', '210308_Bladder_TMA2_reg19_v5', '210308_Bladder_TMA2_reg20_v5', '210308_Bladder_TMA2_reg23_v5', '210308_Bladder_TMA2_reg24_v5', '210308_Bladder_TMA2_reg25_v5', '210308_Bladder_TMA2_reg27_v5', '210308_Bladder_TMA2_reg28_v5', '210308_Bladder_TMA2_reg29_v5', '210308_Bladder_TMA2_reg30_v5', '210308_Bladder_TMA2_reg31_v5', '210308_Bladder_TMA2_reg3_v5', '210308_Bladder_TMA2_reg32_v5', '210308_Bladder_TMA2_reg33_v5', '210308_Bladder_TMA2_reg35_v5', '210308_Bladder_TMA2_reg36_v5', '210308_Bladder_TMA2_reg4_v5', '210308_Bladder_TMA2_reg5_v5', '210308_Bladder_TMA2_reg6_v5', '210308_Bladder_TMA2_reg7_v5', '210308_Bladder_TMA2_reg8_v5', '210308_Bladder_TMA2_reg9_v5', '210311_Bladder_TMA3_reg10_v5', '210311_Bladder_TMA3_reg11_v5', '210311_Bladder_TMA3_reg12_v5', '210311_Bladder_TMA3_reg13_v5', '210311_Bladder_TMA3_reg16_v5', '210311_Bladder_TMA3_reg17_v5', '210311_Bladder_TMA3_reg18_v5', '210311_Bladder_TMA3_reg22_v5', '210311_Bladder_TMA3_reg24_v5', '210311_Bladder_TMA3_reg26_v5', '210311_Bladder_TMA3_reg27_v5', '210311_Bladder_TMA3_reg28_v5', '210311_Bladder_TMA3_reg29_v5', '210311_Bladder_TMA3_reg30_v5', '210311_Bladder_TMA3_reg31_v5', '210311_Bladder_TMA3_reg34_v5', '210311_Bladder_TMA3_reg35_v5', '210311_Bladder_TMA3_reg4_v5', '210311_Bladder_TMA3_reg5_v5', '210311_Bladder_TMA3_reg6_v5', '210311_Bladder_TMA3_reg9_v5']\n"
     ]
    }
   ],
   "source": [
    "ring_channels = ['CD45', 'CD20', 'CD3e', 'CD45RO', 'CD45RA', 'CD8', 'CD4', 'CDH12', \n",
    "                 'KRT13', 'KRT17', 'PanCytoK', 'ERBB2']\n",
    "adatas = []\n",
    "sample_ids = []\n",
    "for path in datasets:\n",
    "    print(path)\n",
    "    try:\n",
    "        ad = load_as_anndata(path, \n",
    "                             recover_tile_nuclei=False, \n",
    "                             as_sparse = False,\n",
    "                             features_dtype = None\n",
    "                            )\n",
    "    except:\n",
    "        print('failed to load', path)\n",
    "        continue\n",
    "    \n",
    "    # Apply staining border function\n",
    "    with h5py.File(ad.uns['source_data'], 'r') as h5f:\n",
    "        ncells = ad.shape[0]\n",
    "        h5_ncells = h5f['cells/DAPI'].shape[0]\n",
    "        print(ncells, h5_ncells)\n",
    "        ring_positive_pct = pd.DataFrame(index=ad.obs_names,\n",
    "                                         columns=[f'{ch}_ringpct' for ch in ring_channels],\n",
    "                                         dtype=np.float32\n",
    "                                        )\n",
    "        tstart = time.time()\n",
    "        for i in tqdm.trange(ncells):\n",
    "            m = h5f['meta/nuclear_masks'][i:i+1,:,:]\n",
    "            vect = []\n",
    "            for ch in ring_channels:\n",
    "                x = h5f[f'cells/{ch}'][i:i+1,:,:]\n",
    "                v = staining_border_nonzero(x,m)\n",
    "                vect.append(v)\n",
    "            ring_positive_pct.loc[ad.obs_names[i],:] = vect\n",
    "        tend = time.time()\n",
    "        print(f'elapsed time: {tend-tstart:3.4f}s')\n",
    "    ad.obs = pd.concat([ad.obs, ring_positive_pct], axis=1)\n",
    "\n",
    "    \n",
    "    adatas.append(ad.copy()) \n",
    "    s = os.path.splitext(os.path.basename(path))[0]\n",
    "    sample_ids.append(s)\n",
    "\n",
    "adata = adatas[0].concatenate(adatas[1:], batch_key='sample_id', batch_categories=sample_ids, \n",
    "                              index_unique = '-')\n",
    "print(sample_ids)\n",
    "adata.raw = adata\n"
   ]
  },
  {
   "cell_type": "code",
   "execution_count": 7,
   "metadata": {},
   "outputs": [
    {
     "name": "stdout",
     "output_type": "stream",
     "text": [
      "(6655, 1440) (6655, 12)\n",
      "(13264, 1440) (13264, 12)\n",
      "(5145, 1440) (5145, 12)\n",
      "(8594, 1440) (8594, 12)\n",
      "(5255, 1440) (5255, 12)\n",
      "(7310, 1440) (7310, 12)\n",
      "(8132, 1440) (8132, 12)\n",
      "(10050, 1440) (10050, 12)\n",
      "(10073, 1440) (10073, 12)\n",
      "(8970, 1440) (8970, 12)\n",
      "(9045, 1440) (9045, 12)\n",
      "(14419, 1440) (14419, 12)\n",
      "(7028, 1440) (7028, 12)\n",
      "(12983, 1440) (12983, 12)\n",
      "(8417, 1440) (8417, 12)\n",
      "(12793, 1440) (12793, 12)\n",
      "(10912, 1440) (10912, 12)\n",
      "(4863, 1440) (4863, 12)\n",
      "(21179, 1440) (21179, 12)\n",
      "(6673, 1440) (6673, 12)\n",
      "(8027, 1440) (8027, 12)\n",
      "(11291, 1440) (11291, 12)\n",
      "(8769, 1440) (8769, 12)\n",
      "(11675, 1440) (11675, 12)\n",
      "(4938, 1440) (4938, 12)\n",
      "(8274, 1440) (8274, 12)\n",
      "(8688, 1440) (8688, 12)\n",
      "(9705, 1440) (9705, 12)\n",
      "(7066, 1440) (7066, 12)\n",
      "(5400, 1440) (5400, 12)\n",
      "(1495, 1440) (1495, 12)\n",
      "(6844, 1440) (6844, 12)\n",
      "(10743, 1440) (10743, 12)\n",
      "(10835, 1440) (10835, 12)\n",
      "(8301, 1440) (8301, 12)\n",
      "(639, 1440) (639, 12)\n",
      "(7901, 1440) (7901, 12)\n",
      "(8554, 1440) (8554, 12)\n",
      "(7703, 1440) (7703, 12)\n",
      "(8274, 1440) (8274, 12)\n",
      "(16028, 1440) (16028, 12)\n",
      "(12978, 1440) (12978, 12)\n",
      "(3084, 1440) (3084, 12)\n",
      "(9033, 1440) (9033, 12)\n",
      "(7289, 1440) (7289, 12)\n",
      "(11666, 1440) (11666, 12)\n",
      "(5628, 1440) (5628, 12)\n",
      "(8140, 1440) (8140, 12)\n",
      "(8146, 1440) (8146, 12)\n",
      "(6098, 1440) (6098, 12)\n",
      "(5019, 1440) (5019, 12)\n",
      "(4883, 1440) (4883, 12)\n",
      "(8992, 1440) (8992, 12)\n",
      "(4303, 1440) (4303, 12)\n",
      "(7262, 1440) (7262, 12)\n",
      "(6058, 1440) (6058, 12)\n",
      "(7555, 1440) (7555, 12)\n",
      "(8587, 1440) (8587, 12)\n",
      "(8735, 1440) (8735, 12)\n",
      "(8689, 1440) (8689, 12)\n",
      "(9723, 1440) (9723, 12)\n",
      "(11073, 1440) (11073, 12)\n",
      "(7128, 1440) (7128, 12)\n",
      "(8147, 1440) (8147, 12)\n",
      "(13429, 1440) (13429, 12)\n",
      "(6909, 1440) (6909, 12)\n",
      "(13463, 1440) (13463, 12)\n",
      "(9140, 1440) (9140, 12)\n",
      "(8633, 1440) (8633, 12)\n",
      "(5435, 1440) (5435, 12)\n",
      "(9283, 1440) (9283, 12)\n",
      "(9944, 1440) (9944, 12)\n",
      "(8054, 1440) (8054, 12)\n",
      "(1024, 1440) (1024, 12)\n",
      "(6346, 1440) (6346, 12)\n",
      "(3564, 1440) (3564, 12)\n",
      "['210226_Bladder_TMA1_reg10_v5', '210226_Bladder_TMA1_reg1_v5', '210226_Bladder_TMA1_reg12_v5', '210226_Bladder_TMA1_reg13_v5', '210226_Bladder_TMA1_reg14_v5', '210226_Bladder_TMA1_reg15_v5', '210226_Bladder_TMA1_reg18_v5', '210226_Bladder_TMA1_reg19_v5', '210226_Bladder_TMA1_reg20_v5', '210226_Bladder_TMA1_reg25_v5', '210226_Bladder_TMA1_reg26_v5', '210226_Bladder_TMA1_reg28_v5', '210226_Bladder_TMA1_reg29_v5', '210226_Bladder_TMA1_reg30_v5', '210226_Bladder_TMA1_reg31_v5', '210226_Bladder_TMA1_reg32_v5', '210226_Bladder_TMA1_reg33_v5', '210226_Bladder_TMA1_reg34_v5', '210226_Bladder_TMA1_reg35_v5', '210226_Bladder_TMA1_reg36_v5', '210226_Bladder_TMA1_reg37_v5', '210226_Bladder_TMA1_reg5_v5', '210226_Bladder_TMA1_reg7_v5', '210226_Bladder_TMA1_reg8_v5', '210226_Bladder_TMA1_reg9_v5', '210308_Bladder_TMA2_reg11_v5', '210308_Bladder_TMA2_reg1_v5', '210308_Bladder_TMA2_reg12_v5', '210308_Bladder_TMA2_reg13_v5', '210308_Bladder_TMA2_reg14_v5', '210308_Bladder_TMA2_reg15_v5', '210308_Bladder_TMA2_reg16_v5', '210308_Bladder_TMA2_reg17_v5', '210308_Bladder_TMA2_reg18_v5', '210308_Bladder_TMA2_reg19_v5', '210308_Bladder_TMA2_reg20_v5', '210308_Bladder_TMA2_reg23_v5', '210308_Bladder_TMA2_reg24_v5', '210308_Bladder_TMA2_reg25_v5', '210308_Bladder_TMA2_reg27_v5', '210308_Bladder_TMA2_reg28_v5', '210308_Bladder_TMA2_reg29_v5', '210308_Bladder_TMA2_reg30_v5', '210308_Bladder_TMA2_reg31_v5', '210308_Bladder_TMA2_reg3_v5', '210308_Bladder_TMA2_reg32_v5', '210308_Bladder_TMA2_reg33_v5', '210308_Bladder_TMA2_reg35_v5', '210308_Bladder_TMA2_reg36_v5', '210308_Bladder_TMA2_reg4_v5', '210308_Bladder_TMA2_reg5_v5', '210308_Bladder_TMA2_reg6_v5', '210308_Bladder_TMA2_reg7_v5', '210308_Bladder_TMA2_reg8_v5', '210308_Bladder_TMA2_reg9_v5', '210311_Bladder_TMA3_reg10_v5', '210311_Bladder_TMA3_reg11_v5', '210311_Bladder_TMA3_reg12_v5', '210311_Bladder_TMA3_reg13_v5', '210311_Bladder_TMA3_reg16_v5', '210311_Bladder_TMA3_reg17_v5', '210311_Bladder_TMA3_reg18_v5', '210311_Bladder_TMA3_reg22_v5', '210311_Bladder_TMA3_reg24_v5', '210311_Bladder_TMA3_reg26_v5', '210311_Bladder_TMA3_reg27_v5', '210311_Bladder_TMA3_reg28_v5', '210311_Bladder_TMA3_reg29_v5', '210311_Bladder_TMA3_reg30_v5', '210311_Bladder_TMA3_reg31_v5', '210311_Bladder_TMA3_reg34_v5', '210311_Bladder_TMA3_reg35_v5', '210311_Bladder_TMA3_reg4_v5', '210311_Bladder_TMA3_reg5_v5', '210311_Bladder_TMA3_reg6_v5', '210311_Bladder_TMA3_reg9_v5']\n"
     ]
    }
   ],
   "source": [
    "for ad in adatas:\n",
    "    print(ad.shape, ad.obs.shape)\n",
    "    df = ad.obs\n",
    "    ad.obs = ad.obs.loc[:, ~df.columns.duplicated()]\n",
    "    \n",
    "adata = adatas[0].concatenate(adatas[1:], batch_key='sample_id', batch_categories=sample_ids, \n",
    "                              index_unique = '-')\n",
    "print(sample_ids)\n",
    "adata.raw = adata"
   ]
  },
  {
   "cell_type": "code",
   "execution_count": 8,
   "metadata": {},
   "outputs": [],
   "source": [
    "sample_id_printing = ['\\n'.join(x.split('_')[2:4]) for x in adata.obs.sample_id]\n",
    "adata.obs['sample_id_printing'] = sample_id_printing\n",
    "adata.uns['channels'] = ad.uns['channels']"
   ]
  },
  {
   "cell_type": "code",
   "execution_count": 9,
   "metadata": {},
   "outputs": [
    {
     "data": {
      "text/plain": [
       "AnnData object with n_obs × n_vars = 636350 × 1440\n",
       "    obs: 'CD45_ringpct', 'CD20_ringpct', 'CD3e_ringpct', 'CD45RO_ringpct', 'CD45RA_ringpct', 'CD8_ringpct', 'CD4_ringpct', 'CDH12_ringpct', 'KRT13_ringpct', 'KRT17_ringpct', 'PanCytoK_ringpct', 'ERBB2_ringpct', 'sample_id', 'sample_id_printing'\n",
       "    uns: 'channels'\n",
       "    obsm: 'coordinates'"
      ]
     },
     "execution_count": 9,
     "metadata": {},
     "output_type": "execute_result"
    }
   ],
   "source": [
    "adata"
   ]
  },
  {
   "cell_type": "code",
   "execution_count": 11,
   "metadata": {},
   "outputs": [
    {
     "name": "stderr",
     "output_type": "stream",
     "text": [
      "... storing 'sample_id_printing' as categorical\n"
     ]
    }
   ],
   "source": [
    "adata.write(\"/storage/codex/datasets_v1/bladder_merged.h5ad\")"
   ]
  }
 ],
 "metadata": {
  "kernelspec": {
   "display_name": "Python 3",
   "language": "python",
   "name": "python3"
  },
  "language_info": {
   "codemirror_mode": {
    "name": "ipython",
    "version": 3
   },
   "file_extension": ".py",
   "mimetype": "text/x-python",
   "name": "python",
   "nbconvert_exporter": "python",
   "pygments_lexer": "ipython3",
   "version": "3.8.3"
  }
 },
 "nbformat": 4,
 "nbformat_minor": 5
}
