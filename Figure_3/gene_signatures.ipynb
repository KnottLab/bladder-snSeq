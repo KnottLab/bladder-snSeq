{
 "cells": [
  {
   "cell_type": "code",
   "execution_count": 1,
   "metadata": {},
   "outputs": [
    {
     "name": "stderr",
     "output_type": "stream",
     "text": [
      "/home/ing/miniconda3/envs/scrna/lib/python3.7/site-packages/dask/config.py:161: YAMLLoadWarning: calling yaml.load() without Loader=... is deprecated, as the default Loader is unsafe. Please read https://msg.pyyaml.org/load for full details.\n",
      "  data = yaml.load(f.read()) or {}\n"
     ]
    }
   ],
   "source": [
    "%load_ext autoreload\n",
    "%autoreload 2\n",
    "%matplotlib inline\n",
    "\n",
    "import pandas as pd\n",
    "import numpy as np\n",
    "import scanpy as sc\n",
    "\n",
    "import seaborn as sns\n",
    "from matplotlib import pyplot as plt"
   ]
  },
  {
   "cell_type": "code",
   "execution_count": 2,
   "metadata": {},
   "outputs": [
    {
     "name": "stdout",
     "output_type": "stream",
     "text": [
      "(67988, 33538)\n"
     ]
    }
   ],
   "source": [
    "print(ad.shape)"
   ]
  },
  {
   "cell_type": "code",
   "execution_count": 3,
   "metadata": {},
   "outputs": [
    {
     "data": {
      "text/plain": [
       "array(['Endothelial', 'Epithelial', 'Fibroblast', 'Lymphocyte', 'Myeloid'],\n",
       "      dtype=object)"
      ]
     },
     "execution_count": 3,
     "metadata": {},
     "output_type": "execute_result"
    }
   ],
   "source": [
    "np.unique(ad.obs.celltype)"
   ]
  },
  {
   "cell_type": "markdown",
   "metadata": {},
   "source": [
    "# Derive gene signatures\n",
    "\n",
    "### Repeat the procedure for each set of celltype\n",
    "\n",
    "celltype groups:\n",
    "\n",
    "    - Epithelial\n",
    "    - Fibroblast\n",
    "    - Lymphocyte, Myeloid\n"
   ]
  },
  {
   "cell_type": "code",
   "execution_count": 4,
   "metadata": {},
   "outputs": [
    {
     "name": "stderr",
     "output_type": "stream",
     "text": [
      "/home/ing/miniconda3/envs/scrna/lib/python3.7/site-packages/anndata/_core/anndata.py:1094: FutureWarning: is_categorical is deprecated and will be removed in a future version.  Use is_categorical_dtype instead\n",
      "  if not is_categorical(df_full[k]):\n",
      "/home/ing/miniconda3/envs/scrna/lib/python3.7/site-packages/anndata/_core/anndata.py:1094: FutureWarning: is_categorical is deprecated and will be removed in a future version.  Use is_categorical_dtype instead\n",
      "  if not is_categorical(df_full[k]):\n",
      "Trying to set attribute `.var` of view, copying.\n"
     ]
    },
    {
     "name": "stdout",
     "output_type": "stream",
     "text": [
      "(61019, 23383) 7191\n"
     ]
    }
   ],
   "source": [
    "ad = sc.read_h5ad(\"../data/MIBC_snSeq.h5ad\")\n",
    "ad = ad[ad.obs.celltype.isin(['Epithelial'])]\n",
    "\n",
    "rm_genes = list(ad.var_names[ad.var_names.str.contains('\\.')])\n",
    "rm_genes += list(ad.var_names[ad.var_names.str.startswith('MT-')])\n",
    "\n",
    "ad.raw = ad\n",
    "sc.pp.normalize_total(ad, target_sum=10000)\n",
    "sc.pp.log1p(ad)\n",
    "\n",
    "ad = ad[:, ~ad.var_names.isin(rm_genes)]"
   ]
  },
  {
   "cell_type": "code",
   "execution_count": 6,
   "metadata": {},
   "outputs": [
    {
     "name": "stderr",
     "output_type": "stream",
     "text": [
      "/home/ing/miniconda3/envs/scrna/lib/python3.7/site-packages/anndata/_core/anndata.py:1192: FutureWarning: is_categorical is deprecated and will be removed in a future version.  Use is_categorical_dtype instead\n",
      "  if is_string_dtype(df[key]) and not is_categorical(df[key])\n",
      "Trying to set attribute `.uns` of view, copying.\n"
     ]
    }
   ],
   "source": [
    "sc.tl.rank_genes_groups(ad, groupby='subtype', method='wilcoxon', n_genes=200)"
   ]
  },
  {
   "cell_type": "code",
   "execution_count": 7,
   "metadata": {},
   "outputs": [],
   "source": [
    "cols = np.unique(ad.obs.subtype)\n",
    "all_genes = []\n",
    "for c in cols:\n",
    "    if c == 'Endothelial':\n",
    "        continue\n",
    "    df = sc.get.rank_genes_groups_df(ad, c)\n",
    "    all_genes += list(df.names)\n",
    "    \n",
    "all_markers = pd.DataFrame(index=cols, columns=np.unique(all_genes))\n",
    "for c in cols:\n",
    "    if c == 'Endothelial':\n",
    "        continue\n",
    "    df = sc.get.rank_genes_groups_df(ad, c)\n",
    "    df = df.set_index('names')\n",
    "    all_markers.loc[c, list(df.index)] = df.scores"
   ]
  },
  {
   "cell_type": "code",
   "execution_count": 9,
   "metadata": {},
   "outputs": [
    {
     "name": "stdout",
     "output_type": "stream",
     "text": [
      "(6, 910)\n"
     ]
    }
   ],
   "source": [
    "print(all_markers.shape)\n",
    "signatures = pd.DataFrame({'subtype': all_markers.index.values[np.argmax(all_markers.fillna(0).values, axis=0)]}, index=all_markers.columns)\n",
    "signatures.index.name = 'gene'\n",
    "signatures = signatures.sort_values('subtype')\n",
    "\n",
    "# signatures.to_csv()"
   ]
  }
 ],
 "metadata": {
  "kernelspec": {
   "display_name": "Python 3",
   "language": "python",
   "name": "python3"
  },
  "language_info": {
   "codemirror_mode": {
    "name": "ipython",
    "version": 3
   },
   "file_extension": ".py",
   "mimetype": "text/x-python",
   "name": "python",
   "nbconvert_exporter": "python",
   "pygments_lexer": "ipython3",
   "version": "3.6.12"
  }
 },
 "nbformat": 4,
 "nbformat_minor": 4
}
