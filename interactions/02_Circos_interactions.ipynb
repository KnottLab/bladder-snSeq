{
 "cells": [
  {
   "cell_type": "code",
   "execution_count": 3,
   "metadata": {},
   "outputs": [
    {
     "name": "stderr",
     "output_type": "stream",
     "text": [
      "/home/ing/miniconda3/envs/scrna/lib/python3.7/site-packages/dask/config.py:161: YAMLLoadWarning: calling yaml.load() without Loader=... is deprecated, as the default Loader is unsafe. Please read https://msg.pyyaml.org/load for full details.\n",
      "  data = yaml.load(f.read()) or {}\n"
     ]
    }
   ],
   "source": [
    "import numpy as np\n",
    "import pandas as pd\n",
    "import scanpy as sc\n",
    "\n",
    "%matplotlib inline\n",
    "from matplotlib import pyplot as plt\n",
    "import seaborn as sns"
   ]
  },
  {
   "cell_type": "code",
   "execution_count": 4,
   "metadata": {},
   "outputs": [
    {
     "name": "stdout",
     "output_type": "stream",
     "text": [
      "(255, 187, 120)\n"
     ]
    }
   ],
   "source": [
    "master_palette = {\n",
    "    \"ACTA2_Fibroblast\": \"#ffbb78\", \n",
    "    \"APC_Macrophage\": \"#7f7f7f\", \n",
    "    \"Activated_Bcell\": \"#c5b0d5\", \n",
    "    \"CDH12_CDH18_Epithelial\": \"#1f77b4\", \n",
    "    \"DSG3_Epithelial\": \"#ff7f0e\", \n",
    "    \"Dendritic_cell\": \"#c49c94\", \n",
    "    \"Endothelial\": \"#17becf\", \n",
    "    \"FAP_Fibroblast\": \"#8c564b\", \n",
    "    \"Inflam_Macrophage\": \"#aec7e8\", \n",
    "    \"Intermediate_Epithelial\": \"#2ca02c\", \n",
    "    \"KRT_Epithelial\": \"#9467bd\", \n",
    "    \"Late_Activation_CD8T\": \"#e377c2\", \n",
    "    \"Naive_Tcell\": \"#ff9896\", \n",
    "    \"PDGFRB_Fibroblast\": \"#f7b6d2\", \n",
    "    \"PDPN_Fibroblast\": \"#98df8a\", \n",
    "    \"Plasma_Bcell\": \"#c7c7c7\", \n",
    "    \"Proliferating_Epithelial\": \"#d62728\", \n",
    "    \"Treg\": \"#dbdb8d\", \n",
    "    \"KRT_13_17_Epithelial\": \"#bcbd22\", \n",
    "}\n",
    "# https://stackoverflow.com/a/29643643\n",
    "def hex2rgb(h):\n",
    "    h = h.lstrip('#')\n",
    "    return tuple(int(h[i:i+2], 16) for i in (0, 2, 4))\n",
    "\n",
    "print(hex2rgb(master_palette['ACTA2_Fibroblast']))"
   ]
  },
  {
   "cell_type": "code",
   "execution_count": null,
   "metadata": {},
   "outputs": [],
   "source": []
  },
  {
   "cell_type": "code",
   "execution_count": 5,
   "metadata": {},
   "outputs": [
    {
     "name": "stdout",
     "output_type": "stream",
     "text": [
      "['ACTA2_Fibroblast' 'APC_Macrophage' 'Activated_Bcell'\n",
      " 'CDH12_CDH18_Epithelial' 'DSG3_Epithelial' 'Dendritic_cell' 'Endothelial'\n",
      " 'FAP_Fibroblast' 'Inflam_Macrophage' 'Intermediate_Epithelial'\n",
      " 'KRT_Epithelial' 'Late_Activation_CD8T' 'Naive_Tcell' 'PDGFRB_Fibroblast'\n",
      " 'PDPN_Fibroblast' 'Plasma_Bcell' 'Proliferating_Epithelial' 'Treg']\n",
      "['Endothelial' 'Epithelial' 'Fibroblast' 'Lymphocyte' 'Myeloid']\n"
     ]
    },
    {
     "data": {
      "text/plain": [
       "(67988, 675)"
      ]
     },
     "execution_count": 5,
     "metadata": {},
     "output_type": "execute_result"
    }
   ],
   "source": [
    "adata = sc.read_h5ad(\"../BladderGEX_run2_working.h5ad\")\n",
    "sc.pp.normalize_total(adata, target_sum=10000)\n",
    "\n",
    "radata = sc.read_h5ad(\"../receptor_scoring/receptor_genelists_2020_06_30_scores.h5ad\")\n",
    "radata.obs['SubType_v3'] = adata.obs['SubType_v3']\n",
    "\n",
    "subtypes = np.unique(radata.obs.SubType_v3)\n",
    "celltypes = np.unique(radata.obs.BroadCellType_v2)\n",
    "print(subtypes)\n",
    "print(celltypes)\n",
    "\n",
    "radata.shape"
   ]
  },
  {
   "cell_type": "code",
   "execution_count": 129,
   "metadata": {},
   "outputs": [
    {
     "name": "stdout",
     "output_type": "stream",
     "text": [
      "1211\n"
     ]
    }
   ],
   "source": [
    "visium_channels = !cat visium_channels_2.txt\n",
    "# Add PDCD1LG2_PDCD1\n",
    "visium_channels.append('PDCD1LG2_PDCD1')\n",
    "print(len(visium_channels))"
   ]
  },
  {
   "cell_type": "code",
   "execution_count": 130,
   "metadata": {},
   "outputs": [
    {
     "name": "stdout",
     "output_type": "stream",
     "text": [
      "807\n"
     ]
    },
    {
     "data": {
      "text/html": [
       "<div>\n",
       "<style scoped>\n",
       "    .dataframe tbody tr th:only-of-type {\n",
       "        vertical-align: middle;\n",
       "    }\n",
       "\n",
       "    .dataframe tbody tr th {\n",
       "        vertical-align: top;\n",
       "    }\n",
       "\n",
       "    .dataframe thead th {\n",
       "        text-align: right;\n",
       "    }\n",
       "</style>\n",
       "<table border=\"1\" class=\"dataframe\">\n",
       "  <thead>\n",
       "    <tr style=\"text-align: right;\">\n",
       "      <th></th>\n",
       "      <th>ligand</th>\n",
       "      <th>receptor</th>\n",
       "    </tr>\n",
       "  </thead>\n",
       "  <tbody>\n",
       "    <tr>\n",
       "      <th>1</th>\n",
       "      <td>A2M</td>\n",
       "      <td>LRP1</td>\n",
       "    </tr>\n",
       "    <tr>\n",
       "      <th>2</th>\n",
       "      <td>AANAT</td>\n",
       "      <td>MTNR1A</td>\n",
       "    </tr>\n",
       "    <tr>\n",
       "      <th>3</th>\n",
       "      <td>AANAT</td>\n",
       "      <td>MTNR1B</td>\n",
       "    </tr>\n",
       "    <tr>\n",
       "      <th>4</th>\n",
       "      <td>ACE</td>\n",
       "      <td>AGTR2</td>\n",
       "    </tr>\n",
       "    <tr>\n",
       "      <th>5</th>\n",
       "      <td>ACE</td>\n",
       "      <td>BDKRB2</td>\n",
       "    </tr>\n",
       "    <tr>\n",
       "      <th>...</th>\n",
       "      <td>...</td>\n",
       "      <td>...</td>\n",
       "    </tr>\n",
       "    <tr>\n",
       "      <th>3248</th>\n",
       "      <td>WNT2B</td>\n",
       "      <td>FZD4</td>\n",
       "    </tr>\n",
       "    <tr>\n",
       "      <th>3249</th>\n",
       "      <td>CCL18</td>\n",
       "      <td>CCR8</td>\n",
       "    </tr>\n",
       "    <tr>\n",
       "      <th>3250</th>\n",
       "      <td>CD52</td>\n",
       "      <td>SIGLEC10</td>\n",
       "    </tr>\n",
       "    <tr>\n",
       "      <th>3251</th>\n",
       "      <td>CD200</td>\n",
       "      <td>CD200R1</td>\n",
       "    </tr>\n",
       "    <tr>\n",
       "      <th>3252</th>\n",
       "      <td>PDCD1LG2</td>\n",
       "      <td>PDCD1</td>\n",
       "    </tr>\n",
       "  </tbody>\n",
       "</table>\n",
       "<p>3252 rows × 2 columns</p>\n",
       "</div>"
      ],
      "text/plain": [
       "        ligand  receptor\n",
       "1          A2M      LRP1\n",
       "2        AANAT    MTNR1A\n",
       "3        AANAT    MTNR1B\n",
       "4          ACE     AGTR2\n",
       "5          ACE    BDKRB2\n",
       "...        ...       ...\n",
       "3248     WNT2B      FZD4\n",
       "3249     CCL18      CCR8\n",
       "3250      CD52  SIGLEC10\n",
       "3251     CD200   CD200R1\n",
       "3252  PDCD1LG2     PDCD1\n",
       "\n",
       "[3252 rows x 2 columns]"
      ]
     },
     "execution_count": 130,
     "metadata": {},
     "output_type": "execute_result"
    }
   ],
   "source": [
    "ligand_receptor = pd.read_csv(\"/home/ing/devel/ccsig/data/cabello_aguilar_Ligand_Receptor.csv\", index_col=0,header=0)\n",
    "# Add PDCD1LG2_PDCD1\n",
    "ligand_receptor.loc[ligand_receptor.index[-1]+1, :] = ['PDCD1LG2', 'PDCD1']\n",
    "ligands = np.unique(ligand_receptor.ligand.tolist())\n",
    "print(len(ligands))\n",
    "ligand_receptor"
   ]
  },
  {
   "cell_type": "code",
   "execution_count": 141,
   "metadata": {},
   "outputs": [
    {
     "name": "stderr",
     "output_type": "stream",
     "text": [
      "Trying to set attribute `.uns` of view, copying.\n"
     ]
    },
    {
     "name": "stdout",
     "output_type": "stream",
     "text": [
      "['CDH12_CDH18_Epithelial', 'DSG3_Epithelial', 'Intermediate_Epithelial', 'KRT_Epithelial', 'Proliferating_Epithelial']\n"
     ]
    },
    {
     "name": "stderr",
     "output_type": "stream",
     "text": [
      "/home/ing/miniconda3/envs/scrna/lib/python3.7/site-packages/anndata/_core/anndata.py:1094: FutureWarning: is_categorical is deprecated and will be removed in a future version.  Use is_categorical_dtype instead\n",
      "  if not is_categorical(df_full[k]):\n",
      "Trying to set attribute `.uns` of view, copying.\n",
      "/home/ing/miniconda3/envs/scrna/lib/python3.7/site-packages/anndata/_core/anndata.py:1094: FutureWarning: is_categorical is deprecated and will be removed in a future version.  Use is_categorical_dtype instead\n",
      "  if not is_categorical(df_full[k]):\n",
      "Trying to set attribute `.uns` of view, copying.\n",
      "/home/ing/miniconda3/envs/scrna/lib/python3.7/site-packages/anndata/_core/anndata.py:1094: FutureWarning: is_categorical is deprecated and will be removed in a future version.  Use is_categorical_dtype instead\n",
      "  if not is_categorical(df_full[k]):\n",
      "Trying to set attribute `.uns` of view, copying.\n"
     ]
    },
    {
     "name": "stdout",
     "output_type": "stream",
     "text": [
      "['ACTA2_Fibroblast', 'FAP_Fibroblast', 'PDGFRB_Fibroblast', 'PDPN_Fibroblast']\n",
      "['Activated_Bcell', 'Late_Activation_CD8T', 'Naive_Tcell', 'Plasma_Bcell', 'Treg']\n"
     ]
    },
    {
     "name": "stderr",
     "output_type": "stream",
     "text": [
      "/home/ing/miniconda3/envs/scrna/lib/python3.7/site-packages/anndata/_core/anndata.py:1094: FutureWarning: is_categorical is deprecated and will be removed in a future version.  Use is_categorical_dtype instead\n",
      "  if not is_categorical(df_full[k]):\n",
      "Trying to set attribute `.uns` of view, copying.\n"
     ]
    },
    {
     "name": "stdout",
     "output_type": "stream",
     "text": [
      "['APC_Macrophage', 'Dendritic_cell', 'Inflam_Macrophage']\n"
     ]
    }
   ],
   "source": [
    "percent_cutoff = 0.05\n",
    "\n",
    "diffrx = {}\n",
    "for ct in celltypes:\n",
    "# for ct in ['Fibroblast']:\n",
    "    if ct == 'Endothelial': continue\n",
    "    rd = radata[radata.obs.BroadCellType_v2 == ct]\n",
    "    sc.tl.rank_genes_groups(rd, groupby='SubType_v3', method='wilcoxon')\n",
    "    ct_subtypes = np.unique(radata.obs.SubType_v3.values[radata.obs.BroadCellType_v2 == ct])\n",
    "    print(list(ct_subtypes))\n",
    "    rdx = pd.DataFrame(rd.X.toarray() > 0, index=rd.obs_names, columns=rd.var_names)\n",
    "    rdx['subtype'] = rd.obs.SubType_v3\n",
    "    rdx = rdx.groupby('subtype').mean()\n",
    "\n",
    "    for st in ct_subtypes:\n",
    "        expressed_receptors = rdx.columns[rdx.loc[st] > percent_cutoff].tolist() # Percent expression cutoff\n",
    "        df = sc.get.rank_genes_groups_df(rd, st)\n",
    "        df = df.query(\"logfoldchanges > 0.25 & pvals_adj < 0.05\")\n",
    "#         df = df.query(\"logfoldchanges > 0.5\")\n",
    "        df = df.loc[df.names.isin(expressed_receptors)]\n",
    "        df['subtype'] = [st] * df.shape[0]\n",
    "        diffrx[st] = df.copy()\n",
    "        \n",
    "rd = radata[radata.obs.BroadCellType_v2.isin(['Endothelial', 'Fibroblast'])]\n",
    "sc.tl.rank_genes_groups(rd, groupby='SubType_v3', method='wilcoxon')\n",
    "df = sc.get.rank_genes_groups_df(rd,'Endothelial')\n",
    "df = df.query(\"logfoldchanges > 0.25\")\n",
    "df['subtype'] = ['Endothelial'] * df.shape[0]\n",
    "diffrx['Endothelial'] = df.copy()"
   ]
  },
  {
   "cell_type": "code",
   "execution_count": 142,
   "metadata": {
    "scrolled": true
   },
   "outputs": [
    {
     "name": "stderr",
     "output_type": "stream",
     "text": [
      "/home/ing/miniconda3/envs/scrna/lib/python3.7/site-packages/anndata/_core/anndata.py:1094: FutureWarning: is_categorical is deprecated and will be removed in a future version.  Use is_categorical_dtype instead\n",
      "  if not is_categorical(df_full[k]):\n",
      "/home/ing/miniconda3/envs/scrna/lib/python3.7/site-packages/anndata/_core/anndata.py:1192: FutureWarning: is_categorical is deprecated and will be removed in a future version.  Use is_categorical_dtype instead\n",
      "  if is_string_dtype(df[key]) and not is_categorical(df[key])\n",
      "Trying to set attribute `.uns` of view, copying.\n",
      "/home/ing/miniconda3/envs/scrna/lib/python3.7/site-packages/anndata/_core/anndata.py:1094: FutureWarning: is_categorical is deprecated and will be removed in a future version.  Use is_categorical_dtype instead\n",
      "  if not is_categorical(df_full[k]):\n"
     ]
    },
    {
     "name": "stdout",
     "output_type": "stream",
     "text": [
      "(67988, 151)\n",
      "CDH12_CDH18_Epithelial --> Late_Activation_CD8T ['C5_C5AR1', 'COL4A3_ITGA1', 'COL4A4_ITGA1', 'COL5A1_ITGA1', 'COL5A2_ITGA1', 'COL6A3_ITGA1', 'COL8A1_ITGA1', 'IL34_CSF1R', 'LAMA1_ITGA1', 'LAMA2_ITGA1', 'OMG_TNFRSF1B', 'PDCD1LG2_PDCD1', 'PECAM1_CD38', 'PTDSS1_JMJD6', 'REN_ATP6AP2', 'SORBS1_ITGA1', 'TGFB1_TGFBR3', 'TGFB2_TGFBR3', 'TNC_CNTN1', 'VEGFD_ITGA1', 'WNT3A_ATP6AP2'] 21\n"
     ]
    },
    {
     "name": "stderr",
     "output_type": "stream",
     "text": [
      "/home/ing/miniconda3/envs/scrna/lib/python3.7/site-packages/anndata/_core/anndata.py:1094: FutureWarning: is_categorical is deprecated and will be removed in a future version.  Use is_categorical_dtype instead\n",
      "  if not is_categorical(df_full[k]):\n"
     ]
    },
    {
     "name": "stdout",
     "output_type": "stream",
     "text": [
      "(67988, 52)\n",
      "CDH12_CDH18_Epithelial --> Naive_Tcell ['IL16_CD4'] 1\n"
     ]
    },
    {
     "name": "stderr",
     "output_type": "stream",
     "text": [
      "/home/ing/miniconda3/envs/scrna/lib/python3.7/site-packages/anndata/_core/anndata.py:1094: FutureWarning: is_categorical is deprecated and will be removed in a future version.  Use is_categorical_dtype instead\n",
      "  if not is_categorical(df_full[k]):\n"
     ]
    },
    {
     "name": "stdout",
     "output_type": "stream",
     "text": [
      "(67988, 132)\n",
      "CDH12_CDH18_Epithelial --> Treg ['ADAM12_SDC4', 'BMP6_ACVR1', 'BTC_ERBB3', 'EGF_ERBB3', 'IL16_CD4', 'LAMA1_SDC4', 'NRG1_ERBB3', 'NRG2_ERBB3', 'OMG_TNFRSF1B', 'RSPO3_SDC4', 'TGFB2_ACVR1', 'TNC_SDC4'] 12\n"
     ]
    }
   ],
   "source": [
    "sender = 'CDH12_CDH18_Epithelial'\n",
    "background_set = ['Epithelial'] # Background cells to use for ligand enrichment\n",
    "\n",
    "send_ad = adata[adata.obs.BroadCellType_v2.isin(background_set), adata.var_names.isin(ligands)]\n",
    "sc.tl.rank_genes_groups(send_ad, groupby='SubType_v3', method='wilcoxon', n_genes=send_ad.shape[1])\n",
    "sender_df = sc.get.rank_genes_groups_df(send_ad, sender)\n",
    "sender_df = sender_df.query(\"logfoldchanges > 0.5 & pvals_adj < 0.05\")\n",
    "sender_ligands = sender_df.names.tolist()\n",
    "\n",
    "N=25\n",
    "\n",
    "# receivers = ['CDH12_CDH18_Epithelial', 'DSG3_Epithelial', 'Intermediate_Epithelial', \n",
    "#              'KRT_Epithelial', 'Proliferating_Epithelial']\n",
    "# receivers = ['ACTA2_Fibroblast', 'FAP_Fibroblast', 'PDGFRB_Fibroblast', 'PDPN_Fibroblast'] \n",
    "# receivers = ['Endothelial']\n",
    "receivers = ['Late_Activation_CD8T', 'Naive_Tcell', 'Treg']\n",
    "# receivers = ['Activated_Bcell', 'Plasma_Bcell']\n",
    "# receivers += ['Activated_Bcell', 'Late_Activation_CD8T', 'Naive_Tcell', 'Plasma_Bcell', 'Treg']\n",
    "# receivers = ['APC_Macrophage', 'Dendritic_cell', 'Inflam_Macrophage']\n",
    "\n",
    "# Track the matched ligand-receptors \n",
    "agreement = {}\n",
    "agreement_n = {}\n",
    "for receiver in receivers:\n",
    "    receptor_set = diffrx[receiver].names.values[:N]\n",
    "    receptor_set = diffrx[receiver].names.values\n",
    "    matched = ligand_receptor.loc[ligand_receptor.receptor.isin( receptor_set )]\n",
    "    ligand_set = np.unique(matched['ligand'].values)\n",
    "\n",
    "    lx = adata[:, adata.var_names.isin(ligand_set)]\n",
    "\n",
    "    dx = pd.DataFrame(lx.X.toarray() > 0, index=adata.obs_names, columns=lx.var_names)\n",
    "    dx['SubType_v3'] = adata.obs.SubType_v3\n",
    "    print(dx.shape)\n",
    "\n",
    "    pct = dx.groupby('SubType_v3').mean() > percent_cutoff\n",
    "\n",
    "    hits = pct.columns[pct.loc[sender]].tolist()\n",
    "    hits = [h for h in hits if h in sender_ligands]\n",
    "\n",
    "    channels = []\n",
    "    for h in hits:\n",
    "        rr = matched.loc[matched.ligand == h].receptor.values\n",
    "        for r in rr:\n",
    "            if r in receptor_set:\n",
    "                channels.append(f'{h}_{r}')\n",
    "                \n",
    "    channels = sorted([c for c in channels if c in visium_channels])\n",
    "    \n",
    "    agreement[receiver] = channels\n",
    "    agreement_n[receiver] = len(channels)\n",
    "    print(sender, '-->', receiver, channels, len(channels))\n",
    "\n",
    "# sender_agreement[sender] = agreement"
   ]
  },
  {
   "cell_type": "code",
   "execution_count": 143,
   "metadata": {},
   "outputs": [
    {
     "name": "stderr",
     "output_type": "stream",
     "text": [
      "/home/ing/miniconda3/envs/scrna/lib/python3.7/site-packages/anndata/_core/anndata.py:1094: FutureWarning: is_categorical is deprecated and will be removed in a future version.  Use is_categorical_dtype instead\n",
      "  if not is_categorical(df_full[k]):\n"
     ]
    },
    {
     "name": "stdout",
     "output_type": "stream",
     "text": [
      "(1, 29)\n",
      "(3, 14)\n"
     ]
    }
   ],
   "source": [
    "all_ligands = set()\n",
    "all_receptors = set()\n",
    "for k, vv in agreement.items():\n",
    "    for v in vv:\n",
    "        ligand, receptor = v.split('_')\n",
    "        all_ligands = all_ligands.union(set([ligand]))\n",
    "        all_receptors = all_receptors.union(set([receptor]))\n",
    "        \n",
    "sd = adata[adata.obs.BroadCellType_v2.isin(background_set), adata.var_names.isin(list(all_ligands))]\n",
    "# Percent of cells with nonzero ligand expression in sender\n",
    "sdx = pd.DataFrame(sd.X.toarray() > 0, index=sd.obs_names, columns=sd.var_names)\n",
    "sdx['subtype'] = sd.obs.SubType_v3\n",
    "sdx = sdx.groupby('subtype').mean().loc[[sender]]\n",
    "\n",
    "# Mean ligand expression in sender \n",
    "sdxe = pd.DataFrame(sd.X.toarray(), index=sd.obs_names, columns=sd.var_names)\n",
    "sdxe['subtype'] = sd.obs.SubType_v3\n",
    "sdxe = sdxe.groupby('subtype').mean().loc[[sender]]\n",
    "print(sdx.shape)\n",
    "\n",
    "rd = radata[:, radata.var_names.isin(list(all_receptors))]\n",
    "# Percent of cells with non-zero receptor expression\n",
    "rdx = pd.DataFrame(rd.X.toarray() > 0, index=rd.obs_names, columns=rd.var_names)\n",
    "rdx['subtype'] = rd.obs.SubType_v3\n",
    "rdx = rdx.groupby('subtype').mean()\n",
    "rdx = rdx.loc[receivers, :]\n",
    "\n",
    "# Mean receptor score\n",
    "rdxe = pd.DataFrame(rd.X.toarray(), index=rd.obs_names, columns=rd.var_names)\n",
    "rdxe['subtype'] = rd.obs.SubType_v3\n",
    "rdxe = rdxe.groupby('subtype').mean()\n",
    "rdxe = rdxe.loc[receivers, :]\n",
    "print(rdx.shape)"
   ]
  },
  {
   "cell_type": "code",
   "execution_count": 144,
   "metadata": {},
   "outputs": [],
   "source": [
    "receiver_celltype = 'Tcell'\n",
    "outbase = f'01_Circos_interactions/{sender}__to__{receiver_celltype}_2'"
   ]
  },
  {
   "cell_type": "code",
   "execution_count": 145,
   "metadata": {},
   "outputs": [
    {
     "name": "stdout",
     "output_type": "stream",
     "text": [
      "[(254, 229, 218), (253, 207, 188), (252, 180, 153), (252, 149, 117), (251, 120, 88), (246, 89, 63), (236, 56, 42), (208, 29, 31), (181, 18, 24), (147, 10, 18)]\n"
     ]
    }
   ],
   "source": [
    "import seaborn as sns\n",
    "reds = [tuple(int(ch * 255) for ch in c) for c in sns.color_palette('Reds', 10)]\n",
    "blues = [tuple(int(ch * 255) for ch in c) for c in sns.color_palette('Blues', 10)]\n",
    "print(reds)\n",
    "# sns.palplot(reds)\n",
    "# sns.palplot(blues)"
   ]
  },
  {
   "cell_type": "code",
   "execution_count": 146,
   "metadata": {},
   "outputs": [],
   "source": [
    "def get_receptor_color(rdxe, receptor, receiver, cmap):\n",
    "    # Change color scale\n",
    "#     max_val = np.max(rdxe.loc[:, receptor].values)\n",
    "    max_val = np.max(rdxe.values)\n",
    "    bins = np.linspace(0, max_val, 10)\n",
    "    b = np.digitize(rdxe.loc[receiver, receptor], bins, right=True)\n",
    "    color = cmap[b]\n",
    "    color = f','.join([f'{c}' for c in color])\n",
    "    return color\n",
    "    \n",
    "# print(get_receptor_color(rdxe, 'ABCA1', 'ACTA2_Fibroblast', blues))\n",
    "    \n",
    "    \n",
    "def write_receptor_karyotype(f, hlf, txtf, start, semi_circle, cmap=blues):\n",
    "    # Also keep track of where to place ligands\n",
    "    ligand_order = []\n",
    "    \n",
    "    # And coordinates for the links\n",
    "    receptor_coords = {}\n",
    "    \n",
    "    total_receptors_with_repeats = 0\n",
    "    for receiver, channels in agreement.items():\n",
    "        receiver_receptors = set([x.split('_')[1] for x in channels])\n",
    "        total_receptors_with_repeats += len(receiver_receptors)\n",
    "\n",
    "    print(total_receptors_with_repeats)\n",
    "    area_per_receptor = int(semi_circle / total_receptors_with_repeats)\n",
    "    print(area_per_receptor)\n",
    "\n",
    "    celltype_start = start\n",
    "    receptor_start = start\n",
    "    for receiver, channels in agreement.items():\n",
    "        receptor_coords[receiver] = {}\n",
    "        \n",
    "        receiver_receptors = [x.split('_')[1] for x in channels]\n",
    "        ligs = [x.split('_')[0] for x in channels]\n",
    "        printed_receptors = []\n",
    "#         for receptor, ligand in zip(receiver_receptors, ligs):\n",
    "        for ch in channels:\n",
    "            ligand, receptor = ch.split('_')\n",
    "            if ligand not in ligand_order:\n",
    "                ligand_order.append(ligand)\n",
    "                \n",
    "            if receptor in printed_receptors:\n",
    "                continue\n",
    "            else:\n",
    "                printed_receptors.append(receptor)\n",
    "                \n",
    "            receptor_end = receptor_start + area_per_receptor\n",
    "            \n",
    "            # Track the receptor coordinates on this receiver\n",
    "            receptor_coords[receiver][receptor] = (receptor_start, receptor_end)\n",
    "            \n",
    "            color = get_receptor_color(rdxe, receptor, receiver, cmap)\n",
    "            \n",
    "            hl = f'{receiver} {receptor_start} {receptor_end} fill_color={color}\\n'\n",
    "            hlf.write(hl)\n",
    "            \n",
    "            txt = f'{receiver} {receptor_start} {receptor_end} {receptor} color={color}\\n'\n",
    "            txtf.write(txt)\n",
    "            \n",
    "            receptor_start = receptor_end\n",
    "        # The value of receptor start is now where our current cell type should stop\n",
    "        color = ','.join([f'{v}' for v in hex2rgb(master_palette[receiver])])\n",
    "        celltype_line = f'chr - {receiver} {receiver} {celltype_start} {receptor_start} {color}\\n'\n",
    "        f.write(celltype_line)\n",
    "        # start for the next cell type\n",
    "        celltype_start = receptor_start\n",
    "        \n",
    "    return ligand_order, receptor_coords"
   ]
  },
  {
   "cell_type": "code",
   "execution_count": 147,
   "metadata": {},
   "outputs": [],
   "source": [
    "def get_ligand_color(sdxe, ligand, sender, cmap):\n",
    "    # Change color scale\n",
    "#     max_val = np.max(rdxe.loc[:, receptor].values)\n",
    "    max_val = np.max(sdxe.values)\n",
    "    bins = np.linspace(0, max_val, 10)\n",
    "    b = np.digitize(sdxe.loc[sender, ligand], bins, right=True)\n",
    "    color = cmap[b]\n",
    "    color = f','.join([f'{c}' for c in color])\n",
    "    return color\n",
    "\n",
    "# Find and place ligands \n",
    "def write_ligands(hlf, txtf, start, total_ticks, ligand_order, cmap=reds):\n",
    "    # Track ligand positions on the sender\n",
    "    ligand_coords = {}\n",
    "    \n",
    "    n_ligands = len(ligand_order)\n",
    "    print(n_ligands)\n",
    "    borders = np.linspace(start, total_ticks, n_ligands+1, dtype=int)\n",
    "    # Go in the reverse order that we wrote the receptors:\n",
    "    for i, ligand in enumerate(ligand_order[::-1]):\n",
    "        ligand_start = borders[i]\n",
    "        ligand_end = borders[i+1]\n",
    "        color = get_ligand_color(sdxe, ligand, sender, reds)\n",
    "        hl = f'{sender} {ligand_start} {ligand_end} fill_color={color}\\n'\n",
    "        txt = f'{sender} {ligand_start} {ligand_end} {ligand} color={color}\\n'\n",
    "        \n",
    "        ligand_coords[ligand] = (ligand_start, ligand_end)\n",
    "\n",
    "        hlf.write(hl)\n",
    "        txtf.write(txt)\n",
    "    \n",
    "    return ligand_coords"
   ]
  },
  {
   "cell_type": "code",
   "execution_count": 148,
   "metadata": {},
   "outputs": [],
   "source": [
    "# 0 = fully opaque\n",
    "MAX_TRANSPARENCY=127\n",
    "\n",
    "def draw_links(linkf, sdxe, rdxe, agreement, ligand_coords, receptor_coords, receiver_order=None):\n",
    "    if receiver_order is None:\n",
    "        receiver_order = list(agreemen.keys())\n",
    "#     for receiver, channels in agreement.items():\n",
    "\n",
    "    max_interaction = 0\n",
    "    for receiver in receiver_order:\n",
    "        channels = agreement[receiver]\n",
    "        for ch in channels:\n",
    "            ligand, receptor = ch.split('_')\n",
    "            rexp = rdxe.loc[receiver, receptor]\n",
    "            sexp = sdxe.loc[sender, ligand]\n",
    "            i = rexp * sexp\n",
    "            if i > max_interaction:\n",
    "                max_interaction = i\n",
    "            \n",
    "    print(max_interaction) \n",
    "    for receiver in receiver_order:\n",
    "        channels = agreement[receiver]\n",
    "        \n",
    "        color = ','.join([f'{v}' for v in hex2rgb(master_palette[receiver])])\n",
    "        \n",
    "        for ch in channels:\n",
    "            ligand, receptor = ch.split('_')\n",
    "            l_c = ligand_coords[ligand]\n",
    "            r_c = receptor_coords[receiver][receptor]\n",
    "            \n",
    "            rexp = rdxe.loc[receiver, receptor]\n",
    "            sexp = sdxe.loc[sender, ligand]\n",
    "            i = rexp * sexp\n",
    "#             trx = MAX_TRANSPARENCY - int(MAX_TRANSPARENCY * (i / max_interaction))\n",
    "            trx = f'{min(1-(i / max_interaction)**2, 0.9):3.3f}'\n",
    "            print(sender, ligand, receiver, receptor, i, trx)\n",
    "#             spct = sdx.loc[sender, ligand]\n",
    "#             hl = (l_c[1] - l_c[0]) / 2\n",
    "#             lm = l_c[0] + ((l_c[1] - l_c[0]) / 2)\n",
    "#             l0 = int(lm - hl*spct)\n",
    "#             l1 = int(lm + hl*spct)\n",
    "            l0 = l_c[0]\n",
    "            l1 = l_c[1]\n",
    "            \n",
    "#             rpct = rdx.loc[receiver, receptor]\n",
    "#             hr = (r_c[1] - r_c[0]) / 2\n",
    "#             rm = r_c[0] + ((r_c[1] - r_c[0]) / 2)\n",
    "#             r0 = int(rm - hr*rpct)\n",
    "#             r1 = int(rm + hr*rpct)\n",
    "            r0 = r_c[0]\n",
    "            r1 = r_c[1]\n",
    "            \n",
    "            \n",
    "            link = f'{sender} {l0} {l1} {receiver} {r0} {r1} color={color},{trx}\\n'\n",
    "            \n",
    "            linkf.write(link)"
   ]
  },
  {
   "cell_type": "code",
   "execution_count": 149,
   "metadata": {},
   "outputs": [
    {
     "data": {
      "text/plain": [
       "'01_Circos_interactions/CDH12_CDH18_Epithelial__to__Tcell_2'"
      ]
     },
     "execution_count": 149,
     "metadata": {},
     "output_type": "execute_result"
    }
   ],
   "source": [
    "outbase"
   ]
  },
  {
   "cell_type": "code",
   "execution_count": 150,
   "metadata": {},
   "outputs": [
    {
     "name": "stdout",
     "output_type": "stream",
     "text": [
      "5000\n",
      "4\n",
      "16\n",
      "312\n",
      "chr - CDH12_CDH18_Epithelial CDH12_CDH18_Epithelial 5000 10000 31,119,180\n",
      "\n",
      "29\n",
      "0.20970494\n",
      "CDH12_CDH18_Epithelial ADAM12 Treg SDC4 0.07445297 0.874\n",
      "CDH12_CDH18_Epithelial BMP6 Treg ACVR1 0.037900053 0.900\n",
      "CDH12_CDH18_Epithelial BTC Treg ERBB3 0.005848309 0.900\n",
      "CDH12_CDH18_Epithelial EGF Treg ERBB3 0.010261406 0.900\n",
      "CDH12_CDH18_Epithelial IL16 Treg CD4 0.02157155 0.900\n",
      "CDH12_CDH18_Epithelial LAMA1 Treg SDC4 0.058682818 0.900\n",
      "CDH12_CDH18_Epithelial NRG1 Treg ERBB3 0.11031577 0.723\n",
      "CDH12_CDH18_Epithelial NRG2 Treg ERBB3 0.013527654 0.900\n",
      "CDH12_CDH18_Epithelial OMG Treg TNFRSF1B 0.027113637 0.900\n",
      "CDH12_CDH18_Epithelial RSPO3 Treg SDC4 0.0120543 0.900\n",
      "CDH12_CDH18_Epithelial TGFB2 Treg ACVR1 0.03464693 0.900\n",
      "CDH12_CDH18_Epithelial TNC Treg SDC4 0.031916622 0.900\n",
      "CDH12_CDH18_Epithelial IL16 Naive_Tcell CD4 0.012561643 0.900\n",
      "CDH12_CDH18_Epithelial C5 Late_Activation_CD8T C5AR1 0.007795845 0.900\n",
      "CDH12_CDH18_Epithelial COL4A3 Late_Activation_CD8T ITGA1 0.0668966 0.898\n",
      "CDH12_CDH18_Epithelial COL4A4 Late_Activation_CD8T ITGA1 0.07124904 0.885\n",
      "CDH12_CDH18_Epithelial COL5A1 Late_Activation_CD8T ITGA1 0.062311985 0.900\n",
      "CDH12_CDH18_Epithelial COL5A2 Late_Activation_CD8T ITGA1 0.06759429 0.896\n",
      "CDH12_CDH18_Epithelial COL6A3 Late_Activation_CD8T ITGA1 0.05680123 0.900\n",
      "CDH12_CDH18_Epithelial COL8A1 Late_Activation_CD8T ITGA1 0.057723705 0.900\n",
      "CDH12_CDH18_Epithelial IL34 Late_Activation_CD8T CSF1R 0.0073092175 0.900\n",
      "CDH12_CDH18_Epithelial LAMA1 Late_Activation_CD8T ITGA1 0.103212655 0.758\n",
      "CDH12_CDH18_Epithelial LAMA2 Late_Activation_CD8T ITGA1 0.20970494 0.000\n",
      "CDH12_CDH18_Epithelial OMG Late_Activation_CD8T TNFRSF1B 0.019156374 0.900\n",
      "CDH12_CDH18_Epithelial PDCD1LG2 Late_Activation_CD8T PDCD1 0.0037471794 0.900\n",
      "CDH12_CDH18_Epithelial PECAM1 Late_Activation_CD8T CD38 0.0818382 0.848\n",
      "CDH12_CDH18_Epithelial PTDSS1 Late_Activation_CD8T JMJD6 0.008566913 0.900\n",
      "CDH12_CDH18_Epithelial REN Late_Activation_CD8T ATP6AP2 0.0091077285 0.900\n",
      "CDH12_CDH18_Epithelial SORBS1 Late_Activation_CD8T ITGA1 0.15082562 0.483\n",
      "CDH12_CDH18_Epithelial TGFB1 Late_Activation_CD8T TGFBR3 0.07605364 0.868\n",
      "CDH12_CDH18_Epithelial TGFB2 Late_Activation_CD8T TGFBR3 0.040038113 0.900\n",
      "CDH12_CDH18_Epithelial TNC Late_Activation_CD8T CNTN1 0.021304222 0.900\n",
      "CDH12_CDH18_Epithelial VEGFD Late_Activation_CD8T ITGA1 0.020812612 0.900\n",
      "CDH12_CDH18_Epithelial WNT3A Late_Activation_CD8T ATP6AP2 0.0061660334 0.900\n"
     ]
    }
   ],
   "source": [
    "'''\n",
    "karyotype.txt\n",
    "\n",
    "chr - [name] [name] start stop R,G,B \n",
    "# start stop in int\n",
    "# R,G,B in uint8\n",
    "\n",
    "> \n",
    "'''\n",
    "total_ticks = 10000\n",
    "semi_circle = int(total_ticks/2)\n",
    "print(semi_circle)\n",
    "\n",
    "total_celltypes = len(sdx.index) + len(rdx.index)\n",
    "print(total_celltypes)\n",
    "\n",
    "f = open(f'{outbase}/karyotype.txt', 'w+')\n",
    "hlf = open(f'{outbase}/highlights.txt', 'w+')\n",
    "txtf = open(f'{outbase}/genes.txt', 'w+')\n",
    "linkf = open(f'{outbase}/links.txt', 'w+')\n",
    "\n",
    "# Circos starts at 12 o'clock\n",
    "ligand_order, receptor_coords = write_receptor_karyotype(f, hlf, txtf, 0, semi_circle)\n",
    "\n",
    "# write the sending semi-circle\n",
    "color = ','.join([f'{v}' for v in hex2rgb(master_palette[sender])])\n",
    "line = f'chr - {sender} {sender} {semi_circle} {total_ticks} {color}\\n'\n",
    "print(line)\n",
    "f.write(line)\n",
    "\n",
    "# now write the sending ligands\n",
    "ligand_coords = write_ligands(hlf, txtf, semi_circle, total_ticks, ligand_order)\n",
    "\n",
    "receiver_order = list(agreement.keys())[::-1]\n",
    "draw_links(linkf, sdxe, rdxe, agreement, ligand_coords, receptor_coords, receiver_order=receiver_order)\n",
    "\n",
    "f.close()\n",
    "hlf.close()\n",
    "txtf.close()\n",
    "linkf.close()"
   ]
  },
  {
   "cell_type": "code",
   "execution_count": null,
   "metadata": {},
   "outputs": [],
   "source": []
  },
  {
   "cell_type": "code",
   "execution_count": null,
   "metadata": {},
   "outputs": [],
   "source": []
  },
  {
   "cell_type": "code",
   "execution_count": null,
   "metadata": {},
   "outputs": [],
   "source": []
  }
 ],
 "metadata": {
  "kernelspec": {
   "display_name": "Python 3",
   "language": "python",
   "name": "python3"
  },
  "language_info": {
   "codemirror_mode": {
    "name": "ipython",
    "version": 3
   },
   "file_extension": ".py",
   "mimetype": "text/x-python",
   "name": "python",
   "nbconvert_exporter": "python",
   "pygments_lexer": "ipython3",
   "version": "3.6.12"
  }
 },
 "nbformat": 4,
 "nbformat_minor": 4
}
